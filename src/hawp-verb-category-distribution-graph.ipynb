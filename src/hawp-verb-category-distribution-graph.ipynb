{
 "cells": [
  {
   "cell_type": "code",
   "execution_count": 1,
   "id": "37a226dc",
   "metadata": {},
   "outputs": [],
   "source": [
    "from tabulate import tabulate\n",
    "from sklearn import preprocessing"
   ]
  },
  {
   "cell_type": "code",
   "execution_count": 2,
   "id": "0a3b6437",
   "metadata": {},
   "outputs": [],
   "source": [
    "import re\n",
    "import numpy as np\n",
    "import pandas as pd\n",
    "import warnings\n",
    "warnings.filterwarnings('ignore')\n",
    "from progressbar import Percentage, ProgressBar,Bar,ETA"
   ]
  },
  {
   "cell_type": "code",
   "execution_count": 3,
   "id": "a8f7f94c",
   "metadata": {},
   "outputs": [
    {
     "name": "stdout",
     "output_type": "stream",
     "text": [
      "!\"#$%&'()*+,-./:;<=>?@[\\]^_`{|}~\n"
     ]
    }
   ],
   "source": [
    "from string import punctuation\n",
    "print(punctuation)"
   ]
  },
  {
   "cell_type": "code",
   "execution_count": 4,
   "id": "ea3b02b7",
   "metadata": {},
   "outputs": [],
   "source": [
    "def getDataAndLabels(data_set, all_data):\n",
    "    set_pids = list(data_set['PID'])\n",
    "    data_set = all_data[all_data['PID'].isin(set_pids)]\n",
    "    data = data_set[['PID','SID','TID','Token','Root','POS','AnnCorra','UD']].copy()\n",
    "    labels = data_set.loc[data_set['POS'] == 'V_VM'][['VerbCategory']].copy()\n",
    "    labels['VerbCategory'] = labels['VerbCategory'].fillna('na')\n",
    "    labels= list(labels['VerbCategory'])\n",
    "#     labels = list(map(lambda x: x.replace('t+', 't'), labels))\n",
    "#     labels = list(map(lambda x: x.replace('t-', 't'), labels))\n",
    "    return data, labels"
   ]
  },
  {
   "cell_type": "code",
   "execution_count": 10,
   "id": "2c57ff47",
   "metadata": {},
   "outputs": [],
   "source": [
    "def getFeatures(data):\n",
    "    pids = list(data[\"PID\"])\n",
    "    ans = []\n",
    "    verbs_dataset = []\n",
    "    r = data['PID'].max()\n",
    "    l = data['PID'].min()\n",
    "    bar = ProgressBar(widgets=[Bar('=', '[', ']'), ' ', Percentage(), ' ', ETA()], maxval=r).start()\n",
    "    for pid in range(l, r+1):\n",
    "        if pid in pids:\n",
    "            pdata = data.loc[data['PID']==pid]\n",
    "            sr = int(pdata['SID'].max())\n",
    "            sl = int(pdata['SID'].min())\n",
    "            for sid in range(sl, sr+1):\n",
    "                sdata = pdata.loc[pdata['SID']==sid]\n",
    "                mv_idx = list(sdata.query('POS == \"V_VM\"')['TID'])\n",
    "                c = sdata['TID'].max()\n",
    "                lemma = list(sdata['Root'])\n",
    "                pos = list(sdata['POS'])\n",
    "                dep = list(sdata['UD'])\n",
    "                for v in mv_idx:\n",
    "                    feature = [lemma[v]]\n",
    "                    ans.append(feature)\n",
    "                    verbs_dataset.append(lemma[v])\n",
    "        bar.update(pid)\n",
    "    features = pd.DataFrame(ans,columns=['features'])\n",
    "    print(features)\n",
    "    return features, verbs_dataset"
   ]
  },
  {
   "cell_type": "code",
   "execution_count": 5,
   "id": "82b62b02",
   "metadata": {},
   "outputs": [],
   "source": [
    "all_data = pd.read_csv('data/all-verb-cat-data.csv', delimiter='\\t')\n",
    "train_verbs_set = pd.read_csv('data/train-test-sets-hawp-3/train3.csv', delimiter='\\t')\n",
    "test_verbs_set = pd.read_csv('data/train-test-sets-hawp-3/test3.csv', delimiter='\\t')"
   ]
  },
  {
   "cell_type": "code",
   "execution_count": 6,
   "id": "fea92869",
   "metadata": {},
   "outputs": [],
   "source": [
    "train_X, train_y = getDataAndLabels(train_verbs_set, all_data)\n",
    "test_X, test_y = getDataAndLabels(test_verbs_set, all_data)"
   ]
  },
  {
   "cell_type": "code",
   "execution_count": 11,
   "id": "243b6b61",
   "metadata": {},
   "outputs": [
    {
     "name": "stderr",
     "output_type": "stream",
     "text": [
      "[======================================================================================================================== ]  99% ETA:  0:00:00\r"
     ]
    },
    {
     "name": "stdout",
     "output_type": "stream",
     "text": [
      "     features\n",
      "0        खरीद\n",
      "1        खरीद\n",
      "2          है\n",
      "3          है\n",
      "4         बता\n",
      "...       ...\n",
      "5200       है\n",
      "5201    निकाल\n",
      "5202       है\n",
      "5203    निकाल\n",
      "5204       था\n",
      "\n",
      "[5205 rows x 1 columns]\n"
     ]
    }
   ],
   "source": [
    "train_features, train_verbs = getFeatures(train_X)"
   ]
  },
  {
   "cell_type": "code",
   "execution_count": 14,
   "id": "d55ce2e9",
   "metadata": {},
   "outputs": [
    {
     "name": "stderr",
     "output_type": "stream",
     "text": [
      "[======================================================================================================================== ]  99% ETA:  0:00:00\r"
     ]
    },
    {
     "name": "stdout",
     "output_type": "stream",
     "text": [
      "     features\n",
      "0          भर\n",
      "1          का\n",
      "2          था\n",
      "3          था\n",
      "4          था\n",
      "...       ...\n",
      "1297     निपट\n",
      "1298     छोड़\n",
      "1299       था\n",
      "1300       था\n",
      "1301       है\n",
      "\n",
      "[1302 rows x 1 columns]\n"
     ]
    }
   ],
   "source": [
    "test_features, test_verbs = getFeatures(test_X)"
   ]
  },
  {
   "cell_type": "code",
   "execution_count": 16,
   "id": "b5ec2147",
   "metadata": {},
   "outputs": [],
   "source": [
    "all_verbs = list(train_features['features'])+list(test_features['features'])"
   ]
  },
  {
   "cell_type": "code",
   "execution_count": 17,
   "id": "2ecabd53",
   "metadata": {},
   "outputs": [],
   "source": [
    "all_labels= train_y + test_y"
   ]
  },
  {
   "cell_type": "code",
   "execution_count": 19,
   "id": "85926c06",
   "metadata": {},
   "outputs": [],
   "source": [
    "v_l = zip(all_verbs, all_labels)"
   ]
  },
  {
   "cell_type": "code",
   "execution_count": 22,
   "id": "02f509de",
   "metadata": {},
   "outputs": [],
   "source": [
    "df = pd.DataFrame(list(v_l),\n",
    "               columns =['verb', 'cat'])"
   ]
  },
  {
   "cell_type": "code",
   "execution_count": 23,
   "id": "e57b94ca",
   "metadata": {},
   "outputs": [
    {
     "data": {
      "text/html": [
       "<div>\n",
       "<style scoped>\n",
       "    .dataframe tbody tr th:only-of-type {\n",
       "        vertical-align: middle;\n",
       "    }\n",
       "\n",
       "    .dataframe tbody tr th {\n",
       "        vertical-align: top;\n",
       "    }\n",
       "\n",
       "    .dataframe thead th {\n",
       "        text-align: right;\n",
       "    }\n",
       "</style>\n",
       "<table border=\"1\" class=\"dataframe\">\n",
       "  <thead>\n",
       "    <tr style=\"text-align: right;\">\n",
       "      <th></th>\n",
       "      <th>verb</th>\n",
       "      <th>cat</th>\n",
       "    </tr>\n",
       "  </thead>\n",
       "  <tbody>\n",
       "    <tr>\n",
       "      <th>0</th>\n",
       "      <td>खरीद</td>\n",
       "      <td>t+</td>\n",
       "    </tr>\n",
       "    <tr>\n",
       "      <th>1</th>\n",
       "      <td>खरीद</td>\n",
       "      <td>t+</td>\n",
       "    </tr>\n",
       "    <tr>\n",
       "      <th>2</th>\n",
       "      <td>है</td>\n",
       "      <td>0</td>\n",
       "    </tr>\n",
       "    <tr>\n",
       "      <th>3</th>\n",
       "      <td>है</td>\n",
       "      <td>0</td>\n",
       "    </tr>\n",
       "    <tr>\n",
       "      <th>4</th>\n",
       "      <td>बता</td>\n",
       "      <td>0</td>\n",
       "    </tr>\n",
       "    <tr>\n",
       "      <th>...</th>\n",
       "      <td>...</td>\n",
       "      <td>...</td>\n",
       "    </tr>\n",
       "    <tr>\n",
       "      <th>6502</th>\n",
       "      <td>निपट</td>\n",
       "      <td>+</td>\n",
       "    </tr>\n",
       "    <tr>\n",
       "      <th>6503</th>\n",
       "      <td>छोड़</td>\n",
       "      <td>-</td>\n",
       "    </tr>\n",
       "    <tr>\n",
       "      <th>6504</th>\n",
       "      <td>था</td>\n",
       "      <td>0</td>\n",
       "    </tr>\n",
       "    <tr>\n",
       "      <th>6505</th>\n",
       "      <td>था</td>\n",
       "      <td>0</td>\n",
       "    </tr>\n",
       "    <tr>\n",
       "      <th>6506</th>\n",
       "      <td>है</td>\n",
       "      <td>0</td>\n",
       "    </tr>\n",
       "  </tbody>\n",
       "</table>\n",
       "<p>6507 rows × 2 columns</p>\n",
       "</div>"
      ],
      "text/plain": [
       "      verb cat\n",
       "0     खरीद  t+\n",
       "1     खरीद  t+\n",
       "2       है   0\n",
       "3       है   0\n",
       "4      बता   0\n",
       "...    ...  ..\n",
       "6502  निपट   +\n",
       "6503  छोड़   -\n",
       "6504    था   0\n",
       "6505    था   0\n",
       "6506    है   0\n",
       "\n",
       "[6507 rows x 2 columns]"
      ]
     },
     "execution_count": 23,
     "metadata": {},
     "output_type": "execute_result"
    }
   ],
   "source": [
    "df"
   ]
  },
  {
   "cell_type": "code",
   "execution_count": 24,
   "id": "9a7aa289",
   "metadata": {},
   "outputs": [],
   "source": [
    "df=df.drop_duplicates()"
   ]
  },
  {
   "cell_type": "code",
   "execution_count": 25,
   "id": "0237b3de",
   "metadata": {},
   "outputs": [
    {
     "data": {
      "text/html": [
       "<div>\n",
       "<style scoped>\n",
       "    .dataframe tbody tr th:only-of-type {\n",
       "        vertical-align: middle;\n",
       "    }\n",
       "\n",
       "    .dataframe tbody tr th {\n",
       "        vertical-align: top;\n",
       "    }\n",
       "\n",
       "    .dataframe thead th {\n",
       "        text-align: right;\n",
       "    }\n",
       "</style>\n",
       "<table border=\"1\" class=\"dataframe\">\n",
       "  <thead>\n",
       "    <tr style=\"text-align: right;\">\n",
       "      <th></th>\n",
       "      <th>verb</th>\n",
       "      <th>cat</th>\n",
       "    </tr>\n",
       "  </thead>\n",
       "  <tbody>\n",
       "    <tr>\n",
       "      <th>0</th>\n",
       "      <td>खरीद</td>\n",
       "      <td>t+</td>\n",
       "    </tr>\n",
       "    <tr>\n",
       "      <th>2</th>\n",
       "      <td>है</td>\n",
       "      <td>0</td>\n",
       "    </tr>\n",
       "    <tr>\n",
       "      <th>4</th>\n",
       "      <td>बता</td>\n",
       "      <td>0</td>\n",
       "    </tr>\n",
       "    <tr>\n",
       "      <th>5</th>\n",
       "      <td>ख़रीद</td>\n",
       "      <td>t+</td>\n",
       "    </tr>\n",
       "    <tr>\n",
       "      <th>6</th>\n",
       "      <td>चाहिए</td>\n",
       "      <td>+</td>\n",
       "    </tr>\n",
       "    <tr>\n",
       "      <th>...</th>\n",
       "      <td>...</td>\n",
       "      <td>...</td>\n",
       "    </tr>\n",
       "    <tr>\n",
       "      <th>6190</th>\n",
       "      <td>खाई</td>\n",
       "      <td>+</td>\n",
       "    </tr>\n",
       "    <tr>\n",
       "      <th>6274</th>\n",
       "      <td>बुन्नू</td>\n",
       "      <td>na</td>\n",
       "    </tr>\n",
       "    <tr>\n",
       "      <th>6313</th>\n",
       "      <td>तोला</td>\n",
       "      <td>+</td>\n",
       "    </tr>\n",
       "    <tr>\n",
       "      <th>6377</th>\n",
       "      <td>गट्ठर</td>\n",
       "      <td>na</td>\n",
       "    </tr>\n",
       "    <tr>\n",
       "      <th>6485</th>\n",
       "      <td>फैल</td>\n",
       "      <td>-</td>\n",
       "    </tr>\n",
       "  </tbody>\n",
       "</table>\n",
       "<p>228 rows × 2 columns</p>\n",
       "</div>"
      ],
      "text/plain": [
       "        verb cat\n",
       "0       खरीद  t+\n",
       "2         है   0\n",
       "4        बता   0\n",
       "5      ख़रीद  t+\n",
       "6      चाहिए   +\n",
       "...      ...  ..\n",
       "6190     खाई   +\n",
       "6274  बुन्नू  na\n",
       "6313    तोला   +\n",
       "6377   गट्ठर  na\n",
       "6485     फैल   -\n",
       "\n",
       "[228 rows x 2 columns]"
      ]
     },
     "execution_count": 25,
     "metadata": {},
     "output_type": "execute_result"
    }
   ],
   "source": [
    "df"
   ]
  },
  {
   "cell_type": "code",
   "execution_count": 26,
   "id": "6f31847a",
   "metadata": {},
   "outputs": [],
   "source": [
    "df2 = df.groupby(['cat'])['verb'].count()"
   ]
  },
  {
   "cell_type": "code",
   "execution_count": 27,
   "id": "c55f128d",
   "metadata": {},
   "outputs": [
    {
     "data": {
      "text/plain": [
       "cat\n",
       "+     115\n",
       "-      53\n",
       "0       7\n",
       "na     37\n",
       "t+      8\n",
       "t-      8\n",
       "Name: verb, dtype: int64"
      ]
     },
     "execution_count": 27,
     "metadata": {},
     "output_type": "execute_result"
    }
   ],
   "source": [
    "df2"
   ]
  },
  {
   "cell_type": "code",
   "execution_count": 28,
   "id": "165e0471",
   "metadata": {},
   "outputs": [],
   "source": [
    "df3 = df.groupby(['cat'])"
   ]
  },
  {
   "cell_type": "code",
   "execution_count": 31,
   "id": "147a6665",
   "metadata": {},
   "outputs": [
    {
     "data": {
      "text/html": [
       "<div>\n",
       "<style scoped>\n",
       "    .dataframe tbody tr th:only-of-type {\n",
       "        vertical-align: middle;\n",
       "    }\n",
       "\n",
       "    .dataframe tbody tr th {\n",
       "        vertical-align: top;\n",
       "    }\n",
       "\n",
       "    .dataframe thead th {\n",
       "        text-align: right;\n",
       "    }\n",
       "</style>\n",
       "<table border=\"1\" class=\"dataframe\">\n",
       "  <thead>\n",
       "    <tr style=\"text-align: right;\">\n",
       "      <th></th>\n",
       "      <th>verb</th>\n",
       "      <th>cat</th>\n",
       "    </tr>\n",
       "  </thead>\n",
       "  <tbody>\n",
       "    <tr>\n",
       "      <th>11</th>\n",
       "      <td>दे</td>\n",
       "      <td>t-</td>\n",
       "    </tr>\n",
       "    <tr>\n",
       "      <th>13</th>\n",
       "      <td>बेच</td>\n",
       "      <td>t-</td>\n",
       "    </tr>\n",
       "    <tr>\n",
       "      <th>111</th>\n",
       "      <td>बाँट</td>\n",
       "      <td>t-</td>\n",
       "    </tr>\n",
       "    <tr>\n",
       "      <th>115</th>\n",
       "      <td>उतर</td>\n",
       "      <td>t-</td>\n",
       "    </tr>\n",
       "    <tr>\n",
       "      <th>1538</th>\n",
       "      <td>उतार</td>\n",
       "      <td>t-</td>\n",
       "    </tr>\n",
       "    <tr>\n",
       "      <th>1674</th>\n",
       "      <td>सौंप</td>\n",
       "      <td>t-</td>\n",
       "    </tr>\n",
       "    <tr>\n",
       "      <th>2125</th>\n",
       "      <td>बह</td>\n",
       "      <td>t-</td>\n",
       "    </tr>\n",
       "    <tr>\n",
       "      <th>4178</th>\n",
       "      <td>बाँटा</td>\n",
       "      <td>t-</td>\n",
       "    </tr>\n",
       "  </tbody>\n",
       "</table>\n",
       "</div>"
      ],
      "text/plain": [
       "       verb cat\n",
       "11       दे  t-\n",
       "13      बेच  t-\n",
       "111    बाँट  t-\n",
       "115     उतर  t-\n",
       "1538   उतार  t-\n",
       "1674   सौंप  t-\n",
       "2125     बह  t-\n",
       "4178  बाँटा  t-"
      ]
     },
     "execution_count": 31,
     "metadata": {},
     "output_type": "execute_result"
    }
   ],
   "source": [
    "df3.get_group('t-')"
   ]
  },
  {
   "cell_type": "code",
   "execution_count": 46,
   "id": "f93b1b98",
   "metadata": {},
   "outputs": [],
   "source": [
    "fake = [108, 53, 7, 13, 10]"
   ]
  },
  {
   "cell_type": "code",
   "execution_count": 47,
   "id": "d2a53737",
   "metadata": {},
   "outputs": [],
   "source": [
    "cat = ['Positive', 'Nagative', 'Observation', 'Positive Transfer', 'Negative Transfer']"
   ]
  },
  {
   "cell_type": "code",
   "execution_count": 51,
   "id": "a4a20576",
   "metadata": {},
   "outputs": [],
   "source": [
    "df_fake = pd.DataFrame(list(zip(cat, fake)),\n",
    "               columns =['Category', 'Verb Count'])"
   ]
  },
  {
   "cell_type": "code",
   "execution_count": 52,
   "id": "33f3e185",
   "metadata": {},
   "outputs": [
    {
     "data": {
      "text/html": [
       "<div>\n",
       "<style scoped>\n",
       "    .dataframe tbody tr th:only-of-type {\n",
       "        vertical-align: middle;\n",
       "    }\n",
       "\n",
       "    .dataframe tbody tr th {\n",
       "        vertical-align: top;\n",
       "    }\n",
       "\n",
       "    .dataframe thead th {\n",
       "        text-align: right;\n",
       "    }\n",
       "</style>\n",
       "<table border=\"1\" class=\"dataframe\">\n",
       "  <thead>\n",
       "    <tr style=\"text-align: right;\">\n",
       "      <th></th>\n",
       "      <th>Category</th>\n",
       "      <th>Verb Count</th>\n",
       "    </tr>\n",
       "  </thead>\n",
       "  <tbody>\n",
       "    <tr>\n",
       "      <th>0</th>\n",
       "      <td>Positive</td>\n",
       "      <td>108</td>\n",
       "    </tr>\n",
       "    <tr>\n",
       "      <th>1</th>\n",
       "      <td>Nagative</td>\n",
       "      <td>53</td>\n",
       "    </tr>\n",
       "    <tr>\n",
       "      <th>2</th>\n",
       "      <td>Observation</td>\n",
       "      <td>7</td>\n",
       "    </tr>\n",
       "    <tr>\n",
       "      <th>3</th>\n",
       "      <td>Positive Transfer</td>\n",
       "      <td>13</td>\n",
       "    </tr>\n",
       "    <tr>\n",
       "      <th>4</th>\n",
       "      <td>Negative Transfer</td>\n",
       "      <td>10</td>\n",
       "    </tr>\n",
       "  </tbody>\n",
       "</table>\n",
       "</div>"
      ],
      "text/plain": [
       "            Category  Verb Count\n",
       "0           Positive         108\n",
       "1           Nagative          53\n",
       "2        Observation           7\n",
       "3  Positive Transfer          13\n",
       "4  Negative Transfer          10"
      ]
     },
     "execution_count": 52,
     "metadata": {},
     "output_type": "execute_result"
    }
   ],
   "source": [
    "df_fake"
   ]
  },
  {
   "cell_type": "code",
   "execution_count": 54,
   "id": "317508ec",
   "metadata": {},
   "outputs": [
    {
     "ename": "NameError",
     "evalue": "name 'plt' is not defined",
     "output_type": "error",
     "traceback": [
      "\u001b[0;31m---------------------------------------------------------------------------\u001b[0m",
      "\u001b[0;31mNameError\u001b[0m                                 Traceback (most recent call last)",
      "\u001b[0;32m/var/folders/_x/thtzs01j1099_drbbxbwjpqr0000gn/T/ipykernel_30970/2844664393.py\u001b[0m in \u001b[0;36m<module>\u001b[0;34m\u001b[0m\n\u001b[1;32m      5\u001b[0m \u001b[0;34m\u001b[0m\u001b[0m\n\u001b[1;32m      6\u001b[0m \u001b[0;31m# set the title\u001b[0m\u001b[0;34m\u001b[0m\u001b[0;34m\u001b[0m\u001b[0;34m\u001b[0m\u001b[0m\n\u001b[0;32m----> 7\u001b[0;31m \u001b[0mplt\u001b[0m\u001b[0;34m.\u001b[0m\u001b[0mtitle\u001b[0m\u001b[0;34m(\u001b[0m\u001b[0;34m'BarPlot'\u001b[0m\u001b[0;34m)\u001b[0m\u001b[0;34m\u001b[0m\u001b[0;34m\u001b[0m\u001b[0m\n\u001b[0m\u001b[1;32m      8\u001b[0m \u001b[0;34m\u001b[0m\u001b[0m\n\u001b[1;32m      9\u001b[0m \u001b[0;31m# show the plot\u001b[0m\u001b[0;34m\u001b[0m\u001b[0;34m\u001b[0m\u001b[0;34m\u001b[0m\u001b[0m\n",
      "\u001b[0;31mNameError\u001b[0m: name 'plt' is not defined"
     ]
    },
    {
     "data": {
      "image/png": "[encoded data removed]",
      "text/plain": [
       "<Figure size 432x288 with 1 Axes>"
      ]
     },
     "metadata": {
      "needs_background": "light"
     },
     "output_type": "display_data"
    }
   ],
   "source": [
    "df_fake.plot(kind='bar',\n",
    "        x='Category',\n",
    "        y='Verb Count',\n",
    "        color='#FF914D')\n",
    " \n",
    "# set the title\n",
    "plt.title('BarPlot')\n",
    " \n",
    "# show the plot\n",
    "plt.show()"
   ]
  },
  {
   "cell_type": "code",
   "execution_count": null,
   "id": "25abc56a",
   "metadata": {},
   "outputs": [],
   "source": []
  },
  {
   "cell_type": "code",
   "execution_count": null,
   "id": "fa67217f",
   "metadata": {},
   "outputs": [],
   "source": []
  },
  {
   "cell_type": "code",
   "execution_count": null,
   "id": "a4f60eae",
   "metadata": {},
   "outputs": [],
   "source": []
  }
 ],
 "metadata": {
  "kernelspec": {
   "display_name": "Python 3 (ipykernel)",
   "language": "python",
   "name": "python3"
  },
  "language_info": {
   "codemirror_mode": {
    "name": "ipython",
    "version": 3
   },
   "file_extension": ".py",
   "mimetype": "text/x-python",
   "name": "python",
   "nbconvert_exporter": "python",
   "pygments_lexer": "ipython3",
   "version": "3.7.10"
  }
 },
 "nbformat": 4,
 "nbformat_minor": 5
}
