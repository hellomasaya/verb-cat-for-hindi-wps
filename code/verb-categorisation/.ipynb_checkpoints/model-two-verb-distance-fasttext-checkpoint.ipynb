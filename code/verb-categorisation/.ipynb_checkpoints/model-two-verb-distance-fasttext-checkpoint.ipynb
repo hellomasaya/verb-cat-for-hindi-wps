{
 "cells": [
  {
   "cell_type": "code",
   "execution_count": null,
   "id": "37a226dc",
   "metadata": {},
   "outputs": [],
   "source": [
    "from tabulate import tabulate\n",
    "from sklearn import preprocessing\n",
    "from numpy.linalg import norm"
   ]
  },
  {
   "cell_type": "code",
   "execution_count": null,
   "id": "0a3b6437",
   "metadata": {},
   "outputs": [],
   "source": [
    "import re\n",
    "import numpy as np\n",
    "import pandas as pd\n",
    "import warnings\n",
    "warnings.filterwarnings('ignore')\n",
    "from progressbar import Percentage, ProgressBar,Bar,ETA"
   ]
  },
  {
   "cell_type": "code",
   "execution_count": null,
   "id": "29db7071",
   "metadata": {},
   "outputs": [],
   "source": [
    "import matplotlib.pyplot as plt\n",
    "import seaborn as sns\n",
    "from sklearn.metrics import confusion_matrix\n",
    "from sklearn.metrics import recall_score\n",
    "from sklearn.metrics import precision_score\n",
    "from sklearn.metrics import f1_score\n",
    "import matplotlib.pyplot as plt\n",
    "import seaborn as sns"
   ]
  },
  {
   "cell_type": "code",
   "execution_count": null,
   "id": "a7aa253c",
   "metadata": {},
   "outputs": [],
   "source": [
    "import io\n",
    "\n",
    "def getVectorsFromFasttext():\n",
    "    for fold in range(0,5):\n",
    "        fin = io.open('./cc.hi.300.vec', 'r', encoding='utf-8', newline='\\n', errors='ignore')\n",
    "        train_verbs_set = pd.read_csv('../data/data-for-ml-models/train/train_samples-fold{}_2.csv'.format(fold), delimiter='\\t')\n",
    "        test_verbs_set = pd.read_csv('../data/data-for-ml-models/test/test_samples-fold{}_2.csv'.format(fold), delimiter='\\t')\n",
    "        train_verbs = train_verbs_set['Verb']\n",
    "        test_verbs = test_verbs_set[\"Verb\"]\n",
    "        x = fin.readline().split()\n",
    "        tokens = []\n",
    "        vector = []\n",
    "        while x:\n",
    "            if x[0] in list(train_verbs) or x[0] in list(test_verbs):\n",
    "                tokens.append(x[0])\n",
    "                vector.append(x[1:])\n",
    "            x = fin.readline().split()\n",
    "        \n",
    "        all_ = [tokens, vector]\n",
    "        with open('verbs-fold{}.csv'.format(fold), 'w') as f:\n",
    "            for i in range(0, len(tokens)):\n",
    "                f.write(all_[0][i])\n",
    "                f.write('\\t')\n",
    "                for j in range(0, 300):\n",
    "                    f.write(all_[1][i][j])\n",
    "                    f.write('\\t')\n",
    "                f.write('\\n')"
   ]
  },
  {
   "cell_type": "code",
   "execution_count": null,
   "id": "6fc58708",
   "metadata": {},
   "outputs": [],
   "source": [
    "def get_all_verbs_vector():\n",
    "    vec = []\n",
    "    for i in range(0,300):\n",
    "        vec.append(i)\n",
    "    vec = ['verb'] + vec + ['remove']\n",
    "    verb1 = pd.read_csv('verbs-fold1.csv', delimiter='\\t', names=vec)\n",
    "    verb1 = verb1.drop(columns='remove')\n",
    "\n",
    "    verb0 = pd.read_csv('verbs-fold0.csv', delimiter='\\t', names=vec)\n",
    "    verb0 = verb0.drop(columns='remove')\n",
    "\n",
    "    verb2 = pd.read_csv('verbs-fold2.csv', delimiter='\\t', names=vec)\n",
    "    verb2 = verb2.drop(columns='remove')\n",
    "\n",
    "    verb3 = pd.read_csv('verbs-fold3.csv', delimiter='\\t', names=vec)\n",
    "    verb3 = verb3.drop(columns='remove')\n",
    "\n",
    "    verb4 = pd.read_csv('verbs-fold4.csv', delimiter='\\t', names=vec)\n",
    "    verb4 = verb4.drop(columns='remove')\n",
    "\n",
    "\n",
    "    all_verbs = pd.concat([verb0, verb1, verb2, verb3, verb4])\n",
    "    all_verbs = all_verbs.drop_duplicates(subset=['verb'])\n",
    "    all_verbs.to_csv('./all_verb_vectors.csv', sep = '\\t', index=False)\n",
    "    return all_verbs"
   ]
  },
  {
   "cell_type": "code",
   "execution_count": null,
   "id": "e0238341",
   "metadata": {},
   "outputs": [],
   "source": [
    "all_verbs = get_all_verbs_vector()"
   ]
  },
  {
   "cell_type": "code",
   "execution_count": null,
   "id": "c093329e",
   "metadata": {},
   "outputs": [],
   "source": [
    "#CHECK number of rows\n",
    "#run get_all_verbs_vector^^^\n",
    "#run g() again"
   ]
  },
  {
   "cell_type": "code",
   "execution_count": null,
   "id": "2791afd8",
   "metadata": {},
   "outputs": [],
   "source": [
    "def getResult(y_true, predicted, fold):\n",
    "    print('Results...')\n",
    "    y_pred = list(predicted)\n",
    "    labels = ['+','-','0','t+','t-','na']\n",
    "    recall = recall_score(y_true, y_pred, labels=labels, average=None)\n",
    "    precision = precision_score(y_true, y_pred, labels=labels, average=None)\n",
    "    f1 = f1_score(y_true, y_pred, labels=labels, average=None)\n",
    "    cm = confusion_matrix(y_true, y_pred, labels=labels)\n",
    "    fig = plt.subplots(figsize=[6,6])\n",
    "    fig = sns.heatmap(cm/np.sum(cm), fmt='.2%',annot=True, cmap='Blues', cbar=False)\n",
    "    plt.xticks([0.5, 1.5, 2.5, 3.5, 4.5, 5.5], labels)\n",
    "    plt.yticks([0.5, 1.5, 2.5, 3.5, 4.5, 5.5], labels)\n",
    "    plt.xlabel('Predicted Category')\n",
    "    plt.ylabel('Actual Category')\n",
    "    plt.title('Fold #{}'.format(fold))\n",
    "    recall = np.reshape(recall, (-1, 1))\n",
    "    precision = np.reshape(precision, (-1, 1))\n",
    "    f1 = np.reshape(f1, (-1, 1))\n",
    "    labels = np.reshape(np.array(labels), (-1, 1))\n",
    "    header = [' ','Recall', 'Precision', 'F1-score']\n",
    "    header = np.array(header)\n",
    "\n",
    "\n",
    "    res = np.hstack((labels,recall,precision,f1))\n",
    "    result = np.vstack((header, res))\n",
    "    h = result[0]\n",
    "    result = np.delete(result, (0), axis=0)\n",
    "\n",
    "    print(tabulate(result, headers=h, tablefmt=\"fancy_grid\"))\n",
    "    print(\"meanf1:\", np.mean(f1))\n",
    "    print(\"meanPrecision:\", np.mean(precision))\n",
    "    print(\"meanRecall:\", np.mean(recall))"
   ]
  },
  {
   "cell_type": "code",
   "execution_count": null,
   "id": "44381372",
   "metadata": {},
   "outputs": [],
   "source": [
    "def predictLabel(train_samples, train_labels, test_samples, test_labels, fold, train_v, test_v):\n",
    "    assert (len(test_v) == len(test_samples) == len(test_labels))\n",
    "    predicted_labels = []\n",
    "    test_idx=0\n",
    "    for test_sample in test_samples:\n",
    "        max_cosine = -99999999\n",
    "        a_label = ''\n",
    "        A = np.array(test_sample)\n",
    "        idx = 0\n",
    "        for train_sample, label in zip(train_samples, train_labels):\n",
    "            B = np.array(train_sample)\n",
    "            cosine = np.dot(A,B)/(norm(A)*norm(B))\n",
    "            if(cosine > max_cosine):\n",
    "                closest_v = idx\n",
    "                max_cosine = cosine\n",
    "                a_label = label\n",
    "            idx += 1\n",
    "        predicted_labels.append(a_label)\n",
    "        same_verb_count = 0\n",
    "        if test_v[test_idx] != train_v[closest_v]:\n",
    "            print(\"closest\", test_v[test_idx], train_v[closest_v])\n",
    "            print(\"label predited:\",predicted_labels[test_idx], \"correct:\", test_labels[test_idx])\n",
    "        else:\n",
    "            same_verb_count+=1\n",
    "        test_idx += 1\n",
    "    print(\"Number of verbs in test that are present in train\", same_verb_count)\n",
    "    getResult(test_labels, predicted_labels, fold)\n",
    "    "
   ]
  },
  {
   "cell_type": "code",
   "execution_count": null,
   "id": "2046bf74",
   "metadata": {},
   "outputs": [],
   "source": [
    "def g():\n",
    "    # all_verbs = get_all_verbs_vector() OR\n",
    "    all_verbs = pd.read_csv('./all_verb_vectors.csv', delimiter='\\t')\n",
    "    verb_vector_dict = {}\n",
    "    for i in range(len(all_verbs.index)):\n",
    "        row = all_verbs.loc[i, :].values.tolist()\n",
    "        verb = row[0]\n",
    "        vector = row[1::]\n",
    "        verb_vector_dict[verb] = vector\n",
    "\n",
    "    for fold in range(0,5):\n",
    "        print(\"-------------------FOLD #{}-------------------------\".format(fold))\n",
    "        train_verbs_set = pd.read_csv('../data/data-for-ml-models/train/train_samples-fold{}_2.csv'.format(fold), delimiter='\\t')\n",
    "        test_verbs_set = pd.read_csv('../data/data-for-ml-models/test/test_samples-fold{}_2.csv'.format(fold), delimiter='\\t')\n",
    "        train_verbs = list(train_verbs_set['Verb'])\n",
    "        test_verbs = list(test_verbs_set[\"Verb\"])\n",
    "        train_labels = list(train_verbs_set[\"label\"])\n",
    "        test_labels = list(test_verbs_set[\"label\"])\n",
    "        train_samples = []\n",
    "        test_samples = []\n",
    "        \n",
    "        for verb in train_verbs:\n",
    "            try:\n",
    "                train_samples.append(verb_vector_dict[verb])\n",
    "            except:\n",
    "                print(\"train\", verb)\n",
    "                train_samples.append([0] * 300)\n",
    "            \n",
    "        for verb in test_verbs:\n",
    "            try:\n",
    "                test_samples.append(verb_vector_dict[verb])\n",
    "            except:\n",
    "                print(\"test\", verb)\n",
    "                test_samples.append([0] * 300)\n",
    "        \n",
    "        predictLabel(train_samples, train_labels, test_samples, test_labels, fold, train_verbs, test_verbs)"
   ]
  },
  {
   "cell_type": "code",
   "execution_count": null,
   "id": "59474dba",
   "metadata": {},
   "outputs": [],
   "source": [
    "g()"
   ]
  },
  {
   "cell_type": "code",
   "execution_count": null,
   "id": "c4db001b",
   "metadata": {},
   "outputs": [],
   "source": [
    "def g_unique():\n",
    "    # all_verbs = get_all_verbs_vector() OR\n",
    "    all_verbs = pd.read_csv('./all_verb_vectors.csv', delimiter='\\t')\n",
    "    verb_vector_dict = {}\n",
    "    for i in range(len(all_verbs.index)):\n",
    "        row = all_verbs.loc[i, :].values.tolist()\n",
    "        verb = row[0]\n",
    "        vector = row[1::]\n",
    "        verb_vector_dict[verb] = vector\n",
    "    for fold in range(0,5):\n",
    "        print(\"-------------------FOLD #{}-------------------------\".format(fold))\n",
    "        train_verbs_set = pd.read_csv('../data/train_samples-fold{}_2.csv'.format(fold), delimiter='\\t')\n",
    "        test_verbs_set = pd.read_csv('../data/test_samples-fold{}_2.csv'.format(fold), delimiter='\\t')\n",
    "        train_verbs_set = train_verbs_set.drop_duplicates(subset=['Verb'])\n",
    "        test_verbs_set = test_verbs_set.drop_duplicates(subset=['Verb'])\n",
    "        train_verbs = list(train_verbs_set['Verb'])\n",
    "        test_verbs = list(test_verbs_set[\"Verb\"])\n",
    "        train_labels = list(train_verbs_set[\"label\"])\n",
    "        test_labels = list(test_verbs_set[\"label\"])\n",
    "        train_samples = []\n",
    "        test_samples = []\n",
    "        \n",
    "        for verb in train_verbs:\n",
    "            try:\n",
    "                train_samples.append(verb_vector_dict[verb])\n",
    "            except:\n",
    "                print(\"train\", verb)\n",
    "                train_samples.append([0] * 300)\n",
    "            \n",
    "        for verb in test_verbs:\n",
    "            try:\n",
    "                test_samples.append(verb_vector_dict[verb])\n",
    "            except:\n",
    "                print(\"test\", verb)\n",
    "                test_samples.append([0] * 300)\n",
    "        \n",
    "        predictLabel(train_samples, train_labels, test_samples, test_labels, fold, train_verbs, test_verbs)"
   ]
  },
  {
   "cell_type": "code",
   "execution_count": null,
   "id": "b5b50f65",
   "metadata": {},
   "outputs": [
    {
     "data": {
      "image/png": "[encoded data removed]",
      "text/plain": [
       "<Figure size 432x432 with 1 Axes>"
      ]
     },
     "metadata": {
      "needs_background": "light"
     },
     "output_type": "display_data"
    }
   ],
   "source": [
    "g_unique()"
   ]
  },
  {
   "cell_type": "code",
   "execution_count": null,
   "id": "ec417882",
   "metadata": {},
   "outputs": [],
   "source": []
  }
 ],
 "metadata": {
  "kernelspec": {
   "display_name": "Python 3 (ipykernel)",
   "language": "python",
   "name": "python3"
  },
  "language_info": {
   "codemirror_mode": {
    "name": "ipython",
    "version": 3
   },
   "file_extension": ".py",
   "mimetype": "text/x-python",
   "name": "python",
   "nbconvert_exporter": "python",
   "pygments_lexer": "ipython3",
   "version": "3.9.6"
  }
 },
 "nbformat": 4,
 "nbformat_minor": 5
}
