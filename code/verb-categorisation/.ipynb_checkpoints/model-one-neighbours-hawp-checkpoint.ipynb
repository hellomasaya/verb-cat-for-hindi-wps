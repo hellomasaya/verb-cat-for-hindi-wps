{
 "cells": [
  {
   "cell_type": "code",
   "execution_count": 1,
   "id": "37a226dc",
   "metadata": {},
   "outputs": [],
   "source": [
    "from tabulate import tabulate\n",
    "from sklearn import preprocessing"
   ]
  },
  {
   "cell_type": "code",
   "execution_count": 2,
   "id": "0a3b6437",
   "metadata": {},
   "outputs": [],
   "source": [
    "import re\n",
    "import numpy as np\n",
    "import pandas as pd\n",
    "import warnings\n",
    "warnings.filterwarnings('ignore')\n",
    "from progressbar import Percentage, ProgressBar,Bar,ETA"
   ]
  },
  {
   "cell_type": "code",
   "execution_count": 3,
   "id": "a8f7f94c",
   "metadata": {},
   "outputs": [
    {
     "name": "stdout",
     "output_type": "stream",
     "text": [
      "!\"#$%&'()*+,-./:;<=>?@[\\]^_`{|}~\n"
     ]
    }
   ],
   "source": [
    "from string import punctuation\n",
    "print(punctuation)"
   ]
  },
  {
   "cell_type": "code",
   "execution_count": 4,
   "id": "29db7071",
   "metadata": {},
   "outputs": [],
   "source": [
    "import pickle\n",
    "from sklearn.svm import SVC\n",
    "from sklearn.feature_extraction.text import TfidfVectorizer\n",
    "from sklearn.metrics import confusion_matrix\n",
    "from sklearn.metrics import recall_score\n",
    "from sklearn.metrics import precision_score\n",
    "from sklearn.metrics import f1_score\n",
    "import matplotlib.pyplot as plt\n",
    "import seaborn as sns\n",
    "from sklearn.ensemble import RandomForestClassifier\n",
    "from sklearn.linear_model import LogisticRegression\n",
    "from sklearn.model_selection import StratifiedKFold"
   ]
  },
  {
   "cell_type": "code",
   "execution_count": 5,
   "id": "9dbadd7b",
   "metadata": {},
   "outputs": [],
   "source": [
    "def getFeatures(data):\n",
    "    pids = list(data[\"PID\"])\n",
    "    ans = []\n",
    "    verbs_dataset = []\n",
    "    r = data['PID'].max()\n",
    "    l = data['PID'].min()\n",
    "    bar = ProgressBar(widgets=[Bar('=', '[', ']'), ' ', Percentage(), ' ', ETA()], maxval=r).start()\n",
    "    for pid in range(l, r+1):\n",
    "        if pid in pids:\n",
    "            pdata = data.loc[data['PID']==pid]\n",
    "            sr = int(pdata['SID'].max())\n",
    "            sl = int(pdata['SID'].min())\n",
    "            for sid in range(sl, sr+1):\n",
    "                sdata = pdata.loc[pdata['SID']==sid]\n",
    "                mv_idx = list(sdata.query('POS == \"V_VM\"')['TID'])\n",
    "                c = sdata['TID'].max()\n",
    "                lemma = list(sdata['Root'])\n",
    "                pos = list(sdata['POS'])\n",
    "                dep = list(sdata['UD'])\n",
    "                for v in mv_idx:\n",
    "                    if v > 2 and c >= v+3:\n",
    "                        bag = [pos[v-3], pos[v-2], pos[v-1], lemma[v], pos[v+1],pos[v+2], pos[v+3], dep[v-3], dep[v-2], dep[v-1], lemma[v], dep[v+1],dep[v+2], dep[v+3]]\n",
    "                    elif v == 2 and c >= v+3:\n",
    "                        bag = ['NULL', pos[v-2], pos[v-1], lemma[v], pos[v+1],pos[v+2], pos[v+3], 'NULL', dep[v-2], dep[v-1], lemma[v], dep[v+1],dep[v+2], dep[v+3]]\n",
    "                    elif v == 1 and c >= v+3:\n",
    "                        bag = ['NULL', 'NULL', pos[v-1], lemma[v], pos[v+1],pos[v+2], pos[v+3], 'NULL', 'NULL', dep[v-1], lemma[v], dep[v+1],dep[v+2], dep[v+3]]\n",
    "                    elif v == 0 and c >= v+3:\n",
    "                        bag = ['NULL', 'NULL', 'NULL', lemma[v], pos[v+1],pos[v+2], pos[v+3], 'NULL', 'NULL', 'NULL', lemma[v], dep[v+1],dep[v+2], dep[v+3]]\n",
    "                    elif v > 2 and c == v+2:\n",
    "                        bag = [pos[v-3], pos[v-2], pos[v-1], lemma[v], pos[v+1],pos[v+2], 'NULL', dep[v-3], dep[v-2], dep[v-1], lemma[v], dep[v+1],dep[v+2], 'NULL']\n",
    "                    elif v == 2 and c == v+2:\n",
    "                        bag = ['NULL', pos[v-2], pos[v-1], lemma[v], pos[v+1],pos[v+2], 'NULL', 'NULL', dep[v-2], dep[v-1], lemma[v], dep[v+1],dep[v+2], 'NULL']\n",
    "                    elif v == 1 and c == v+2:\n",
    "                        bag = ['NULL', 'NULL', pos[v-1], lemma[v], pos[v+1],pos[v+2], 'NULL', 'NULL', 'NULL', dep[v-1], lemma[v], dep[v+1],dep[v+2], 'NULL']\n",
    "                    elif v == 0 and c == v+2:\n",
    "                        bag = ['NULL', 'NULL', 'NULL', lemma[v], pos[v+1],pos[v+2], 'NULL', 'NULL', 'NULL', 'NULL', lemma[v], dep[v+1],dep[v+2], 'NULL']\n",
    "                    elif v > 2 and c == v+1:\n",
    "                        bag = [pos[v-3], pos[v-2], pos[v-1], lemma[v], pos[v+1],'NULL', 'NULL', dep[v-3], dep[v-2], dep[v-1], lemma[v], dep[v+1],'NULL', 'NULL']\n",
    "                    elif v == 2 and c == v+1:\n",
    "                        bag = ['NULL', pos[v-2], pos[v-1], lemma[v], pos[v+1],'NULL', 'NULL', 'NULL', dep[v-2], dep[v-1], lemma[v], dep[v+1],'NULL', 'NULL']\n",
    "                    elif v == 1 and c == v+1:\n",
    "                        bag = ['NULL', 'NULL', pos[v-1], lemma[v], pos[v+1],'NULL', 'NULL', 'NULL', 'NULL', dep[v-1], lemma[v], dep[v+1],'NULL', 'NULL']\n",
    "                    elif v == 0 and c == v+1:\n",
    "                        bag = ['NULL', 'NULL', 'NULL', lemma[v], pos[v+1],'NULL', 'NULL', 'NULL', 'NULL', 'NULL', lemma[v], dep[v+1],'NULL', 'NULL']\n",
    "                    elif v > 2 and c == v:\n",
    "                        bag = [pos[v-3], pos[v-2], pos[v-1], lemma[v], 'NULL','NULL', 'NULL', dep[v-3], dep[v-2], dep[v-1], lemma[v], 'NULL','NULL', 'NULL']\n",
    "                    elif v == 2 and c == v:\n",
    "                        bag = ['NULL', pos[v-2], pos[v-1], lemma[v],'NULL','NULL', 'NULL', 'NULL', dep[v-2], dep[v-1], lemma[v],'NULL','NULL', 'NULL']\n",
    "                    elif v == 1 and c == v:\n",
    "                        bag = ['NULL', 'NULL',pos[v-1], lemma[v], 'NULL','NULL', 'NULL', 'NULL', 'NULL',dep[v-1], lemma[v], 'NULL','NULL', 'NULL']\n",
    "                    elif v == 0 and c == v:\n",
    "                        bag = ['NULL', 'NULL', 'NULL', lemma[v], 'NULL','NULL', 'NULL', 'NULL', 'NULL', 'NULL', lemma[v], 'NULL','NULL', 'NULL']\n",
    "\n",
    "                    feature = [bag]\n",
    "                    ans.append(feature)\n",
    "                    verbs_dataset.append(lemma[v])\n",
    "        bar.update(pid)\n",
    "    features = pd.DataFrame(ans,columns=['features'])\n",
    "    print(features)\n",
    "    return features, verbs_dataset"
   ]
  },
  {
   "cell_type": "code",
   "execution_count": 6,
   "id": "daa114ea",
   "metadata": {},
   "outputs": [],
   "source": [
    "def kFoldCrossValidation(n, X, y, model):\n",
    "    skf = StratifiedKFold(n_splits=n, shuffle=True)\n",
    "    for train_index, test_index in skf.split(X, y):\n",
    "        print(train_index, test_index)\n",
    "        X_train, X_test = X[train_index], X[test_index]\n",
    "        y_train, y_test = y[train_index], y[test_index]      \n",
    "        X_train = pd.DataFrame(X_train, columns =['features'])\n",
    "        print(X_train)\n",
    "        y_train = pd.DataFrame(y_train, columns =['labels'])\n",
    "        print(y_train)\n",
    "        if(model == \"svm\"):\n",
    "            predicted_test_labels = svm(X_train, y_train, list(X_test))\n",
    "        elif(model == \"logreg\"):\n",
    "            predicted_test_labels = logReg(X_train, y_train, list(X_test))\n",
    "        elif(model == \"rfc\"):\n",
    "            predicted_test_labels = randomForest(X_train, y_train, list(X_test))\n",
    "        getResult(list(y_test), predicted_test_labels)\n",
    "#     return predicted_test_labels"
   ]
  },
  {
   "cell_type": "code",
   "execution_count": 7,
   "id": "81a87357",
   "metadata": {},
   "outputs": [],
   "source": [
    "def svm(training_data, training_labels, test_samples):\n",
    "#     with open('./hindi-verb-cat-svm', 'rb') as file:  \n",
    "#         clf = pickle.load(file)  \n",
    "    clf = SVC(kernel=\"linear\")\n",
    "    clf.fit(training_data, training_labels)\n",
    "    pickle.dump(clf, open(\"./hindi-verb-cat-svm-bow-six\", 'wb'))\n",
    "    return clf.predict(test_samples)"
   ]
  },
  {
   "cell_type": "code",
   "execution_count": 8,
   "id": "e200f3e5",
   "metadata": {},
   "outputs": [],
   "source": [
    "def randomForest(training_data, training_labels, test_samples):\n",
    "#     with open('./hindi-verb-cat-rfc', 'rb') as file:  \n",
    "#         rfc = pickle.load(file)\n",
    "    rfc = RandomForestClassifier(random_state=1, n_estimators=400)\n",
    "    rfc.fit(training_data, training_labels)\n",
    "    pickle.dump(rfc, open(\"./hindi-verb-cat-rfc-bow-six\", 'wb'))\n",
    "    return rfc.predict(test_samples)"
   ]
  },
  {
   "cell_type": "code",
   "execution_count": 9,
   "id": "f39fb5de",
   "metadata": {},
   "outputs": [],
   "source": [
    "def logReg(training_data, training_labels, test_samples):\n",
    "#     with open('./hindi-verb-cat-logreg', 'rb') as file:  \n",
    "#         logreg = pickle.load(file)\n",
    "    logreg = LogisticRegression(random_state=42).fit(training_data, training_labels)\n",
    "    pickle.dump(logreg, open(\"./hindi-verb-cat-logreg-bow-six\", 'wb'))\n",
    "    return logreg.predict(test_samples)"
   ]
  },
  {
   "cell_type": "code",
   "execution_count": 10,
   "id": "183ca07b",
   "metadata": {},
   "outputs": [],
   "source": [
    "def vectorise_using_tfidf(training_samples, test_samples):\n",
    "    punctuation = \"!#$%&'()*+,-./:;<=>?@[\\]^_`{|}~\\\"।\"\n",
    "    sample_list=[]\n",
    "    training_samples = list(training_samples['features'])\n",
    "    for sample in training_samples:\n",
    "        sample_list.append(' '.join(sample))\n",
    "    vectorizer = TfidfVectorizer(token_pattern='(?u)\\\\s?\\w+\\\\s?|\\\\s?[' + punctuation + ']\\\\s?', ngram_range=(1, 1))\n",
    "    train_matrix = vectorizer.fit_transform(sample_list)\n",
    "\n",
    "    sample_list=[]\n",
    "    test_samples = list(test_samples['features'])\n",
    "    for sample in test_samples:\n",
    "        sample_list.append(' '.join(sample))\n",
    "    test_matrix = vectorizer.transform(sample_list)\n",
    "    return train_matrix, test_matrix"
   ]
  },
  {
   "cell_type": "code",
   "execution_count": 152,
   "id": "a9f5b0ae",
   "metadata": {},
   "outputs": [],
   "source": [
    "def getPredictions(training_samples, test_samples, training_labels, model):\n",
    "    train_matrix, test_matrix = vectorise_using_tfidf(training_samples, test_samples)\n",
    "    if model == \"svm\":\n",
    "        print('Predicting using SVM...')\n",
    "        predicted = svm(train_matrix, training_labels, test_matrix)\n",
    "    elif model == \"rfc\":\n",
    "        print('Predicting using Random Forest...')\n",
    "        predicted = randomForest(train_matrix, training_labels, test_matrix)\n",
    "    else:\n",
    "        print('Predicting using Logistic Regression...')\n",
    "        predicted = logReg(train_matrix, training_labels, test_matrix)\n",
    "    return predicted"
   ]
  },
  {
   "cell_type": "code",
   "execution_count": 164,
   "id": "160455a1",
   "metadata": {},
   "outputs": [],
   "source": [
    "def getResult(y_true, predicted):\n",
    "    print('Results...')\n",
    "    y_pred = list(predicted)\n",
    "    labels = ['+','-','0', 't+', 't-','na']\n",
    "    recall = recall_score(y_true, y_pred, labels=labels, average=None)\n",
    "    precision = precision_score(y_true, y_pred, labels=labels, average=None)\n",
    "    f1 = f1_score(y_true, y_pred, labels=labels, average=None)\n",
    "    cm = confusion_matrix(y_true, y_pred, labels=labels)\n",
    "    fig = plt.subplots(figsize=[6,6])\n",
    "    fig = sns.heatmap(cm/np.sum(cm), fmt='.2%',annot=True, cmap='Blues', cbar=False)\n",
    "    plt.xticks([0.5, 1.5, 2.5, 3.5, 4.5, 5.5], labels)\n",
    "    plt.yticks([0.5, 1.5, 2.5, 3.5, 4.5, 5.5], labels)\n",
    "    plt.xlabel('Predicted Category')\n",
    "    plt.ylabel('Actual Category')\n",
    "    \n",
    "    recall = np.reshape(recall, (-1, 1))\n",
    "    precision = np.reshape(precision, (-1, 1))\n",
    "    f1 = np.reshape(f1, (-1, 1))\n",
    "    labels = np.reshape(np.array(labels), (-1, 1))\n",
    "    header = [' ','Recall', 'Precision', 'F1-score']\n",
    "    header = np.array(header)\n",
    "\n",
    "\n",
    "    res = np.hstack((labels,recall,precision,f1))\n",
    "    result = np.vstack((header, res))\n",
    "    h = result[0]\n",
    "    result = np.delete(result, (0), axis=0)\n",
    "\n",
    "    print(tabulate(result, headers=h, tablefmt=\"fancy_grid\"))\n",
    "    print(\"meanf1:\", np.mean(f1))\n",
    "#     print(\"meanPrecision:\", np.mean(precision))\n",
    "#     print(\"meanRecall:\", np.mean(recall))"
   ]
  },
  {
   "cell_type": "code",
   "execution_count": 154,
   "id": "ea3b02b7",
   "metadata": {},
   "outputs": [],
   "source": [
    "def getDataAndLabels(data_set, all_data):\n",
    "    set_pids = list(data_set['PID'])\n",
    "    data_set = all_data[all_data['PID'].isin(set_pids)]\n",
    "    data = data_set[['PID','SID','TID','Token','Root','POS','AnnCorra','UD']].copy()\n",
    "    labels = data_set.loc[data_set['POS'] == 'V_VM'][['VerbCategory']].copy()\n",
    "    labels['VerbCategory'] = labels['VerbCategory'].fillna('na')\n",
    "    labels= list(labels['VerbCategory'])\n",
    "#     labels = list(map(lambda x: x.replace('t+', 't'), labels))\n",
    "#     labels = list(map(lambda x: x.replace('t-', 't'), labels))\n",
    "    return data, labels"
   ]
  },
  {
   "cell_type": "markdown",
   "id": "53f8ce18",
   "metadata": {},
   "source": [
    "# Fold 3"
   ]
  },
  {
   "cell_type": "code",
   "execution_count": 167,
   "id": "82b62b02",
   "metadata": {},
   "outputs": [],
   "source": [
    "all_data = pd.read_csv('data/all-verb-cat-data.csv', delimiter='\\t')\n",
    "train_verbs_set = pd.read_csv('data/train-test-sets-hawp-3/train3.csv', delimiter='\\t')\n",
    "test_verbs_set = pd.read_csv('data/train-test-sets-hawp-3/test3.csv', delimiter='\\t')"
   ]
  },
  {
   "cell_type": "code",
   "execution_count": 168,
   "id": "fea92869",
   "metadata": {},
   "outputs": [],
   "source": [
    "train_X, train_y = getDataAndLabels(train_verbs_set, all_data)\n",
    "test_X, test_y = getDataAndLabels(test_verbs_set, all_data)"
   ]
  },
  {
   "cell_type": "code",
   "execution_count": 169,
   "id": "77b31283",
   "metadata": {},
   "outputs": [
    {
     "name": "stderr",
     "output_type": "stream",
     "text": [
      "[======================================================================================================================== ]  99% ETA:  0:00:00\r"
     ]
    },
    {
     "name": "stdout",
     "output_type": "stream",
     "text": [
      "                                               features\n",
      "0     [N_NN, DM_DMD, N_NN, खरीद, RD_PUNC, NULL, NULL...\n",
      "1     [QT_QTF, PR_PRQ, N_NN, खरीद, RD_PUNC, NULL, NU...\n",
      "2     [N_NN, QT_QTC, N_NN, है, RD_PUNC, NULL, NULL, ...\n",
      "3     [N_NST, QT_QTC, N_NN, है, CC_CCS, V_VM, RD_PUN...\n",
      "4     [N_NN, V_VM, CC_CCS, बता, RD_PUNC, PR_PRP, N_N...\n",
      "...                                                 ...\n",
      "5200  [N_NN, QT_QTF, N_NN, है, RD_PUNC, NULL, NULL, ...\n",
      "5201  [N_NN, PSP, N_NNP, निकाल, RD_PUNC, NULL, NULL,...\n",
      "5202  [PSP, PR_PRP, N_NNP, है, RD_PUNC, NULL, NULL, ...\n",
      "5203  [NULL, NULL, N_NN, निकाल, PSP, N_NST, N_NN, NU...\n",
      "5204  [PSP, PR_PRQ, N_NN, था, RD_PUNC, NULL, NULL, c...\n",
      "\n",
      "[5205 rows x 1 columns]\n"
     ]
    }
   ],
   "source": [
    "train_features, train_verbs = getFeatures(train_X)"
   ]
  },
  {
   "cell_type": "code",
   "execution_count": 170,
   "id": "fb4b8e10",
   "metadata": {},
   "outputs": [
    {
     "name": "stderr",
     "output_type": "stream",
     "text": [
      "[======================================================================================================================== ]  99% ETA:  0:00:00\r"
     ]
    },
    {
     "name": "stdout",
     "output_type": "stream",
     "text": [
      "                                               features\n",
      "0     [QT_QTC, N_NN, PSP, भर, DM_DMD, N_NN, N_NN, nu...\n",
      "1     [N_NN, PSP, N_NN, का, RD_PUNC, NULL, NULL, nmo...\n",
      "2     [PSP, QT_QTC, N_NN, था, CC_CCD, JJ, N_NN, case...\n",
      "3     [CC_CCD, JJ, N_NN, था, RD_PUNC, NULL, NULL, cc...\n",
      "4     [PSP, PR_PRQ, N_NN, था, RD_PUNC, NULL, NULL, c...\n",
      "...                                                 ...\n",
      "1297  [NULL, NULL, PR_PRP, निपट, PSP, PSP, N_NN, NUL...\n",
      "1298  [N_NN, PSP, N_NN, छोड़, RD_PUNC, NULL, NULL, n...\n",
      "1299  [N_NN, PSP, N_NN, था, CC_CCD, QT_QTC, N_NN, nm...\n",
      "1300  [PSP, N_NN, RP_NEG, था, RD_PUNC, NULL, NULL, c...\n",
      "1301  [PSP, RP_INTF, QT_QTF, है, RD_PUNC, NULL, NULL...\n",
      "\n",
      "[1302 rows x 1 columns]\n"
     ]
    }
   ],
   "source": [
    "test_features, test_verbs = getFeatures(test_X)"
   ]
  },
  {
   "cell_type": "code",
   "execution_count": 171,
   "id": "ed2ecbbb",
   "metadata": {},
   "outputs": [],
   "source": [
    "# for feature, label in zip(test_features['features'], test_y):\n",
    "#     print(feature, label)"
   ]
  },
  {
   "cell_type": "code",
   "execution_count": 172,
   "id": "0df6d6fa",
   "metadata": {},
   "outputs": [
    {
     "name": "stdout",
     "output_type": "stream",
     "text": [
      "5205 5205 1302 1302\n"
     ]
    }
   ],
   "source": [
    "print(len(train_features), len(train_y), len(test_features), len(test_y))"
   ]
  },
  {
   "cell_type": "markdown",
   "id": "664ee97f",
   "metadata": {},
   "source": [
    "# SVM "
   ]
  },
  {
   "cell_type": "code",
   "execution_count": 173,
   "id": "ba33394b",
   "metadata": {},
   "outputs": [
    {
     "name": "stdout",
     "output_type": "stream",
     "text": [
      "Predicting using SVM...\n"
     ]
    }
   ],
   "source": [
    "svm_predicted = getPredictions(train_features, test_features, train_y, \"svm\")"
   ]
  },
  {
   "cell_type": "code",
   "execution_count": 174,
   "id": "50a95aca",
   "metadata": {},
   "outputs": [
    {
     "name": "stdout",
     "output_type": "stream",
     "text": [
      "Results...\n",
      "╒═════╤══════════╤═════════════╤════════════╕\n",
      "│     │   Recall │   Precision │   F1-score │\n",
      "╞═════╪══════════╪═════════════╪════════════╡\n",
      "│ +   │ 0.971888 │    0.966068 │   0.968969 │\n",
      "├─────┼──────────┼─────────────┼────────────┤\n",
      "│ -   │ 0.95122  │    0.879699 │   0.914062 │\n",
      "├─────┼──────────┼─────────────┼────────────┤\n",
      "│ 0   │ 0.998008 │    1        │   0.999003 │\n",
      "├─────┼──────────┼─────────────┼────────────┤\n",
      "│ t+  │ 1        │    1        │   1        │\n",
      "├─────┼──────────┼─────────────┼────────────┤\n",
      "│ t-  │ 1        │    1        │   1        │\n",
      "├─────┼──────────┼─────────────┼────────────┤\n",
      "│ na  │ 0.294118 │    1        │   0.454545 │\n",
      "╘═════╧══════════╧═════════════╧════════════╛\n",
      "meanf1: 0.8894299857568903\n"
     ]
    },
    {
     "data": {
      "image/png": "[encoded data removed]",
      "text/plain": [
       "<Figure size 432x432 with 1 Axes>"
      ]
     },
     "metadata": {
      "needs_background": "light"
     },
     "output_type": "display_data"
    }
   ],
   "source": [
    "getResult(test_y, svm_predicted)"
   ]
  },
  {
   "cell_type": "code",
   "execution_count": 175,
   "id": "c4e440f0",
   "metadata": {},
   "outputs": [],
   "source": [
    "# K-FOLD: SVM"
   ]
  },
  {
   "cell_type": "code",
   "execution_count": 176,
   "id": "b15867c2",
   "metadata": {},
   "outputs": [],
   "source": [
    "# X = pd.concat([train_features, test_features]).to_numpy()\n",
    "# y = train_y + test_y\n",
    "# kFoldCrossValidation(5, X, np.asarray(y), \"svm\")"
   ]
  },
  {
   "cell_type": "code",
   "execution_count": null,
   "id": "68e6a03b",
   "metadata": {},
   "outputs": [],
   "source": []
  },
  {
   "cell_type": "code",
   "execution_count": null,
   "id": "8b64fa5e",
   "metadata": {},
   "outputs": [],
   "source": []
  },
  {
   "cell_type": "markdown",
   "id": "6a5b2369",
   "metadata": {},
   "source": [
    "# Random Forest Classifier"
   ]
  },
  {
   "cell_type": "code",
   "execution_count": 177,
   "id": "3adf53bd",
   "metadata": {},
   "outputs": [
    {
     "name": "stdout",
     "output_type": "stream",
     "text": [
      "Predicting using Random Forest...\n"
     ]
    }
   ],
   "source": [
    "rfc_predicted = getPredictions(train_features, test_features, train_y, \"rfc\")"
   ]
  },
  {
   "cell_type": "code",
   "execution_count": 178,
   "id": "cc11a3e4",
   "metadata": {},
   "outputs": [
    {
     "name": "stdout",
     "output_type": "stream",
     "text": [
      "Results...\n",
      "╒═════╤══════════╤═════════════╤════════════╕\n",
      "│     │   Recall │   Precision │   F1-score │\n",
      "╞═════╪══════════╪═════════════╪════════════╡\n",
      "│ +   │ 0.993976 │    0.923507 │   0.957447 │\n",
      "├─────┼──────────┼─────────────┼────────────┤\n",
      "│ -   │ 0.837398 │    0.962617 │   0.895652 │\n",
      "├─────┼──────────┼─────────────┼────────────┤\n",
      "│ 0   │ 0.998008 │    0.994048 │   0.996024 │\n",
      "├─────┼──────────┼─────────────┼────────────┤\n",
      "│ t+  │ 0.923077 │    1        │   0.96     │\n",
      "├─────┼──────────┼─────────────┼────────────┤\n",
      "│ t-  │ 0.940476 │    0.9875   │   0.963415 │\n",
      "├─────┼──────────┼─────────────┼────────────┤\n",
      "│ na  │ 0.176471 │    1        │   0.3      │\n",
      "╘═════╧══════════╧═════════════╧════════════╛\n",
      "meanf1: 0.845422912238145\n"
     ]
    },
    {
     "data": {
      "image/png": "[encoded data removed]",
      "text/plain": [
       "<Figure size 432x432 with 1 Axes>"
      ]
     },
     "metadata": {
      "needs_background": "light"
     },
     "output_type": "display_data"
    }
   ],
   "source": [
    "getResult(test_y, rfc_predicted)"
   ]
  },
  {
   "cell_type": "markdown",
   "id": "2de28cdd",
   "metadata": {},
   "source": [
    "# Logistic Regression"
   ]
  },
  {
   "cell_type": "code",
   "execution_count": 179,
   "id": "3c6e9e99",
   "metadata": {},
   "outputs": [
    {
     "name": "stdout",
     "output_type": "stream",
     "text": [
      "Predicting using Logistic Regression...\n"
     ]
    }
   ],
   "source": [
    "lg_predicted = getPredictions(train_features, test_features, train_y, \"lg\")"
   ]
  },
  {
   "cell_type": "code",
   "execution_count": 180,
   "id": "35c29228",
   "metadata": {},
   "outputs": [
    {
     "name": "stdout",
     "output_type": "stream",
     "text": [
      "Results...\n",
      "╒═════╤═══════════╤═════════════╤════════════╕\n",
      "│     │    Recall │   Precision │   F1-score │\n",
      "╞═════╪═══════════╪═════════════╪════════════╡\n",
      "│ +   │ 0.975904  │    0.929254 │   0.952008 │\n",
      "├─────┼───────────┼─────────────┼────────────┤\n",
      "│ -   │ 0.861789  │    0.868852 │   0.865306 │\n",
      "├─────┼───────────┼─────────────┼────────────┤\n",
      "│ 0   │ 0.998008  │    0.996024 │   0.997015 │\n",
      "├─────┼───────────┼─────────────┼────────────┤\n",
      "│ t+  │ 0.935897  │    1        │   0.966887 │\n",
      "├─────┼───────────┼─────────────┼────────────┤\n",
      "│ t-  │ 0.952381  │    1        │   0.97561  │\n",
      "├─────┼───────────┼─────────────┼────────────┤\n",
      "│ na  │ 0.0588235 │    1        │   0.111111 │\n",
      "╘═════╧═══════════╧═════════════╧════════════╛\n",
      "meanf1: 0.8113228612841276\n"
     ]
    },
    {
     "data": {
      "image/png": "[encoded data removed]",
      "text/plain": [
       "<Figure size 432x432 with 1 Axes>"
      ]
     },
     "metadata": {
      "needs_background": "light"
     },
     "output_type": "display_data"
    }
   ],
   "source": [
    "getResult(test_y, lg_predicted)"
   ]
  },
  {
   "cell_type": "code",
   "execution_count": 181,
   "id": "2549a951",
   "metadata": {},
   "outputs": [],
   "source": [
    "# test_features['label'] = test_y"
   ]
  },
  {
   "cell_type": "code",
   "execution_count": 182,
   "id": "0ed7fe83",
   "metadata": {},
   "outputs": [],
   "source": [
    "# test_features"
   ]
  },
  {
   "cell_type": "code",
   "execution_count": 183,
   "id": "e328fbb6",
   "metadata": {},
   "outputs": [],
   "source": [
    "# test_features.to_csv('./test_samples-fold3.csv', sep=\"\\t\", index=False)"
   ]
  },
  {
   "cell_type": "markdown",
   "id": "db35abed",
   "metadata": {},
   "source": [
    "# fOld 0"
   ]
  },
  {
   "cell_type": "code",
   "execution_count": 184,
   "id": "b9fe5409",
   "metadata": {},
   "outputs": [],
   "source": [
    "all_data = pd.read_csv('data/all-verb-cat-data.csv', delimiter='\\t')\n",
    "train_verbs_set = pd.read_csv('data/train-test-sets-hawp-3/train0.csv', delimiter='\\t')\n",
    "test_verbs_set = pd.read_csv('data/train-test-sets-hawp-3/test0.csv', delimiter='\\t')"
   ]
  },
  {
   "cell_type": "code",
   "execution_count": 185,
   "id": "0fc8a2db",
   "metadata": {},
   "outputs": [],
   "source": [
    "train_X, train_y = getDataAndLabels(train_verbs_set, all_data)\n",
    "test_X, test_y = getDataAndLabels(test_verbs_set, all_data)"
   ]
  },
  {
   "cell_type": "code",
   "execution_count": 186,
   "id": "115e949d",
   "metadata": {},
   "outputs": [
    {
     "name": "stderr",
     "output_type": "stream",
     "text": [
      "[======================================================================================================================== ]  99% ETA:  0:00:00\r"
     ]
    },
    {
     "name": "stdout",
     "output_type": "stream",
     "text": [
      "                                               features\n",
      "0     [PSP, QT_QTC, N_NN, बैठ, V_VAUX, RD_PUNC, NULL...\n",
      "1     [QT_QTC, N_NN, N_NNP, जा, RD_PUNC, NULL, NULL,...\n",
      "2     [NULL, NULL, NULL, बता, RD_PUNC, PR_PRP, N_NN,...\n",
      "3     [PSP, PR_PRQ, N_NN, रह, RD_PUNC, NULL, NULL, c...\n",
      "4     [N_NST, QT_QTC, N_NN, था, CC_CCD, N_NNP, PSP, ...\n",
      "...                                                 ...\n",
      "5172  [N_NN, QT_QTF, N_NN, है, RD_PUNC, NULL, NULL, ...\n",
      "5173  [N_NN, PSP, N_NNP, निकाल, RD_PUNC, NULL, NULL,...\n",
      "5174  [PSP, PR_PRP, N_NNP, है, RD_PUNC, NULL, NULL, ...\n",
      "5175  [NULL, NULL, N_NN, निकाल, PSP, N_NST, N_NN, NU...\n",
      "5176  [PSP, PR_PRQ, N_NN, था, RD_PUNC, NULL, NULL, c...\n",
      "\n",
      "[5177 rows x 1 columns]\n"
     ]
    }
   ],
   "source": [
    "train_features, train_verbs = getFeatures(train_X)"
   ]
  },
  {
   "cell_type": "code",
   "execution_count": 187,
   "id": "bacea76f",
   "metadata": {},
   "outputs": [
    {
     "name": "stderr",
     "output_type": "stream",
     "text": [
      "[=========================================================================================================================] 100% ETA:  0:00:00\r"
     ]
    },
    {
     "name": "stdout",
     "output_type": "stream",
     "text": [
      "                                               features\n",
      "0     [N_NN, DM_DMD, N_NN, खरीद, RD_PUNC, NULL, NULL...\n",
      "1     [QT_QTF, PR_PRQ, N_NN, खरीद, RD_PUNC, NULL, NU...\n",
      "2     [N_NN, QT_QTC, N_NN, है, RD_PUNC, NULL, NULL, ...\n",
      "3     [N_NST, QT_QTC, N_NN, है, CC_CCS, V_VM, RD_PUN...\n",
      "4     [N_NN, V_VM, CC_CCS, बता, RD_PUNC, PR_PRP, N_N...\n",
      "...                                                 ...\n",
      "1325  [QT_QTC, PSP, N_NN, कर, CC_CCD, QT_QTO, N_NN, ...\n",
      "1326  [QT_QTC, N_NN, JJ, मिल, RD_PUNC, NULL, NULL, n...\n",
      "1327  [PSP, PR_PRQ, N_NN, मिल, RD_PUNC, NULL, NULL, ...\n",
      "1328  [QT_QTC, N_NN, N_NN, बेच, CC_CCS, PR_PRP, QT_Q...\n",
      "1329  [QT_QTF, PR_PRQ, N_NN, बेच, RD_PUNC, NULL, NUL...\n",
      "\n",
      "[1330 rows x 1 columns]\n"
     ]
    }
   ],
   "source": [
    "test_features, test_verbs = getFeatures(test_X)"
   ]
  },
  {
   "cell_type": "code",
   "execution_count": 188,
   "id": "23929d20",
   "metadata": {},
   "outputs": [
    {
     "name": "stdout",
     "output_type": "stream",
     "text": [
      "5177 5177 1330 1330\n"
     ]
    }
   ],
   "source": [
    "print(len(train_features), len(train_y), len(test_features), len(test_y))"
   ]
  },
  {
   "cell_type": "markdown",
   "id": "29bec414",
   "metadata": {},
   "source": [
    "# SVM "
   ]
  },
  {
   "cell_type": "code",
   "execution_count": 189,
   "id": "1f47610f",
   "metadata": {},
   "outputs": [
    {
     "name": "stdout",
     "output_type": "stream",
     "text": [
      "Predicting using SVM...\n"
     ]
    }
   ],
   "source": [
    "svm_predicted = getPredictions(train_features, test_features, train_y, \"svm\")"
   ]
  },
  {
   "cell_type": "code",
   "execution_count": 190,
   "id": "c89ce6d0",
   "metadata": {},
   "outputs": [
    {
     "name": "stdout",
     "output_type": "stream",
     "text": [
      "Results...\n",
      "╒═════╤══════════╤═════════════╤════════════╕\n",
      "│     │   Recall │   Precision │   F1-score │\n",
      "╞═════╪══════════╪═════════════╪════════════╡\n",
      "│ +   │ 0.981168 │    0.977486 │   0.979323 │\n",
      "├─────┼──────────┼─────────────┼────────────┤\n",
      "│ -   │ 0.960265 │    0.923567 │   0.941558 │\n",
      "├─────┼──────────┼─────────────┼────────────┤\n",
      "│ 0   │ 0.997722 │    1        │   0.99886  │\n",
      "├─────┼──────────┼─────────────┼────────────┤\n",
      "│ t+  │ 1        │    1        │   1        │\n",
      "├─────┼──────────┼─────────────┼────────────┤\n",
      "│ t-  │ 1        │    0.990826 │   0.995392 │\n",
      "├─────┼──────────┼─────────────┼────────────┤\n",
      "│ na  │ 0.2      │    1        │   0.333333 │\n",
      "╘═════╧══════════╧═════════════╧════════════╛\n",
      "meanf1: 0.8747444228960646\n"
     ]
    },
    {
     "data": {
      "image/png": "[encoded data removed]",
      "text/plain": [
       "<Figure size 432x432 with 1 Axes>"
      ]
     },
     "metadata": {
      "needs_background": "light"
     },
     "output_type": "display_data"
    }
   ],
   "source": [
    "getResult(test_y, svm_predicted)"
   ]
  },
  {
   "cell_type": "markdown",
   "id": "0267a23e",
   "metadata": {},
   "source": [
    "# Random Forest Classifier"
   ]
  },
  {
   "cell_type": "code",
   "execution_count": 191,
   "id": "89faa946",
   "metadata": {},
   "outputs": [
    {
     "name": "stdout",
     "output_type": "stream",
     "text": [
      "Predicting using Random Forest...\n"
     ]
    }
   ],
   "source": [
    "rfc_predicted = getPredictions(train_features, test_features, train_y, \"rfc\")"
   ]
  },
  {
   "cell_type": "code",
   "execution_count": 192,
   "id": "a71d977a",
   "metadata": {},
   "outputs": [
    {
     "name": "stdout",
     "output_type": "stream",
     "text": [
      "Results...\n",
      "╒═════╤══════════╤═════════════╤════════════╕\n",
      "│     │   Recall │   Precision │   F1-score │\n",
      "╞═════╪══════════╪═════════════╪════════════╡\n",
      "│ +   │ 0.996234 │    0.937943 │   0.96621  │\n",
      "├─────┼──────────┼─────────────┼────────────┤\n",
      "│ -   │ 0.86755  │    0.984962 │   0.922535 │\n",
      "├─────┼──────────┼─────────────┼────────────┤\n",
      "│ 0   │ 0.993166 │    0.995434 │   0.994299 │\n",
      "├─────┼──────────┼─────────────┼────────────┤\n",
      "│ t+  │ 0.989011 │    0.989011 │   0.989011 │\n",
      "├─────┼──────────┼─────────────┼────────────┤\n",
      "│ t-  │ 0.944444 │    1        │   0.971429 │\n",
      "├─────┼──────────┼─────────────┼────────────┤\n",
      "│ na  │ 0.2      │    1        │   0.333333 │\n",
      "╘═════╧══════════╧═════════════╧════════════╛\n",
      "meanf1: 0.8628028160711098\n"
     ]
    },
    {
     "data": {
      "image/png": "[encoded data removed]",
      "text/plain": [
       "<Figure size 432x432 with 1 Axes>"
      ]
     },
     "metadata": {
      "needs_background": "light"
     },
     "output_type": "display_data"
    }
   ],
   "source": [
    "getResult(test_y, rfc_predicted)"
   ]
  },
  {
   "cell_type": "markdown",
   "id": "b96c54d5",
   "metadata": {},
   "source": [
    "# Logistic Regression"
   ]
  },
  {
   "cell_type": "code",
   "execution_count": 193,
   "id": "0a8d6e66",
   "metadata": {},
   "outputs": [
    {
     "name": "stdout",
     "output_type": "stream",
     "text": [
      "Predicting using Logistic Regression...\n"
     ]
    }
   ],
   "source": [
    "lg_predicted = getPredictions(train_features, test_features, train_y, \"lg\")"
   ]
  },
  {
   "cell_type": "code",
   "execution_count": 194,
   "id": "ee0ec61c",
   "metadata": {},
   "outputs": [
    {
     "name": "stdout",
     "output_type": "stream",
     "text": [
      "Results...\n",
      "╒═════╤══════════╤═════════════╤════════════╕\n",
      "│     │   Recall │   Precision │   F1-score │\n",
      "╞═════╪══════════╪═════════════╪════════════╡\n",
      "│ +   │ 0.984934 │    0.959633 │   0.972119 │\n",
      "├─────┼──────────┼─────────────┼────────────┤\n",
      "│ -   │ 0.89404  │    0.931034 │   0.912162 │\n",
      "├─────┼──────────┼─────────────┼────────────┤\n",
      "│ 0   │ 0.997722 │    1        │   0.99886  │\n",
      "├─────┼──────────┼─────────────┼────────────┤\n",
      "│ t+  │ 1        │    1        │   1        │\n",
      "├─────┼──────────┼─────────────┼────────────┤\n",
      "│ t-  │ 1        │    0.990826 │   0.995392 │\n",
      "├─────┼──────────┼─────────────┼────────────┤\n",
      "│ na  │ 0.2      │    1        │   0.333333 │\n",
      "╘═════╧══════════╧═════════════╧════════════╛\n",
      "meanf1: 0.8686443181362064\n"
     ]
    },
    {
     "data": {
      "image/png": "[encoded data removed]",
      "text/plain": [
       "<Figure size 432x432 with 1 Axes>"
      ]
     },
     "metadata": {
      "needs_background": "light"
     },
     "output_type": "display_data"
    }
   ],
   "source": [
    "getResult(test_y, lg_predicted)"
   ]
  },
  {
   "cell_type": "code",
   "execution_count": 195,
   "id": "df3bb9af",
   "metadata": {},
   "outputs": [],
   "source": [
    "# test_features['label'] = test_y"
   ]
  },
  {
   "cell_type": "markdown",
   "id": "628c7af5",
   "metadata": {},
   "source": [
    "# fOld 2"
   ]
  },
  {
   "cell_type": "code",
   "execution_count": 196,
   "id": "358a11d8",
   "metadata": {},
   "outputs": [],
   "source": [
    "all_data = pd.read_csv('data/all-verb-cat-data.csv', delimiter='\\t')\n",
    "train_verbs_set = pd.read_csv('data/train-test-sets-hawp-3/train2.csv', delimiter='\\t')\n",
    "test_verbs_set = pd.read_csv('data/train-test-sets-hawp-3/test2.csv', delimiter='\\t')"
   ]
  },
  {
   "cell_type": "code",
   "execution_count": 197,
   "id": "fea92869",
   "metadata": {},
   "outputs": [],
   "source": [
    "train_X, train_y = getDataAndLabels(train_verbs_set, all_data)\n",
    "test_X, test_y = getDataAndLabels(test_verbs_set, all_data)"
   ]
  },
  {
   "cell_type": "code",
   "execution_count": 198,
   "id": "77b31283",
   "metadata": {},
   "outputs": [
    {
     "name": "stderr",
     "output_type": "stream",
     "text": [
      "[======================================================================================================================== ]  99% ETA:  0:00:00\r"
     ]
    },
    {
     "name": "stdout",
     "output_type": "stream",
     "text": [
      "                                               features\n",
      "0     [N_NN, DM_DMD, N_NN, खरीद, RD_PUNC, NULL, NULL...\n",
      "1     [QT_QTF, PR_PRQ, N_NN, खरीद, RD_PUNC, NULL, NU...\n",
      "2     [N_NN, QT_QTC, N_NN, है, RD_PUNC, NULL, NULL, ...\n",
      "3     [N_NST, QT_QTC, N_NN, है, CC_CCS, V_VM, RD_PUN...\n",
      "4     [N_NN, V_VM, CC_CCS, बता, RD_PUNC, PR_PRP, N_N...\n",
      "...                                                 ...\n",
      "5190  [N_NN, QT_QTF, N_NN, है, RD_PUNC, NULL, NULL, ...\n",
      "5191  [N_NN, PSP, N_NNP, निकाल, RD_PUNC, NULL, NULL,...\n",
      "5192  [PSP, PR_PRP, N_NNP, है, RD_PUNC, NULL, NULL, ...\n",
      "5193  [NULL, NULL, N_NN, निकाल, PSP, N_NST, N_NN, NU...\n",
      "5194  [PSP, PR_PRQ, N_NN, था, RD_PUNC, NULL, NULL, c...\n",
      "\n",
      "[5195 rows x 1 columns]\n"
     ]
    }
   ],
   "source": [
    "train_features, train_verbs = getFeatures(train_X)"
   ]
  },
  {
   "cell_type": "code",
   "execution_count": 199,
   "id": "fb4b8e10",
   "metadata": {},
   "outputs": [
    {
     "name": "stderr",
     "output_type": "stream",
     "text": [
      "[======================================================================================================================== ]  99% ETA:  0:00:00\r"
     ]
    },
    {
     "name": "stdout",
     "output_type": "stream",
     "text": [
      "                                               features\n",
      "0     [NULL, N_NNP, N_NN, चला, V_VM, V_VAUX, V_VAUX,...\n",
      "1     [N_NNP, N_NN, V_VM, सीख, V_VAUX, V_VAUX, RD_PU...\n",
      "2     [QT_QTC, N_NN, N_NN, चला, PSP, N_NN, V_VM, num...\n",
      "3     [V_VM, PSP, N_NN, कर, RD_PUNC, NULL, NULL, nmo...\n",
      "4     [N_NN, PSP, N_NN, चला, RD_PUNC, NULL, NULL, nm...\n",
      "...                                                 ...\n",
      "1307  [QT_QTC, N_NN, JJ, रख, V_VAUX, RD_PUNC, NULL, ...\n",
      "1308  [N_NST, PR_PRQ, N_NN, बच, V_VAUX, RD_PUNC, NUL...\n",
      "1309  [N_NN, DM_DMD, PSP, ख़रीद, V_VAUX, RD_PUNC, CC...\n",
      "1310  [V_VAUX, RD_PUNC, CC_CCS, बता, PR_PRP, N_NN, P...\n",
      "1311  [PR_PRQ, N_NN, N_NN, कर, RD_PUNC, NULL, NULL, ...\n",
      "\n",
      "[1312 rows x 1 columns]\n"
     ]
    }
   ],
   "source": [
    "test_features, test_verbs = getFeatures(test_X)"
   ]
  },
  {
   "cell_type": "code",
   "execution_count": 200,
   "id": "0df6d6fa",
   "metadata": {},
   "outputs": [
    {
     "name": "stdout",
     "output_type": "stream",
     "text": [
      "5195 5195 1312 1312\n"
     ]
    }
   ],
   "source": [
    "print(len(train_features), len(train_y), len(test_features), len(test_y))"
   ]
  },
  {
   "cell_type": "markdown",
   "id": "664ee97f",
   "metadata": {},
   "source": [
    "# SVM "
   ]
  },
  {
   "cell_type": "code",
   "execution_count": 201,
   "id": "ba33394b",
   "metadata": {},
   "outputs": [
    {
     "name": "stdout",
     "output_type": "stream",
     "text": [
      "Predicting using SVM...\n"
     ]
    }
   ],
   "source": [
    "svm_predicted = getPredictions(train_features, test_features, train_y, \"svm\")"
   ]
  },
  {
   "cell_type": "code",
   "execution_count": 202,
   "id": "50a95aca",
   "metadata": {},
   "outputs": [
    {
     "name": "stdout",
     "output_type": "stream",
     "text": [
      "Results...\n",
      "╒═════╤══════════╤═════════════╤════════════╕\n",
      "│     │   Recall │   Precision │   F1-score │\n",
      "╞═════╪══════════╪═════════════╪════════════╡\n",
      "│ +   │ 0.964486 │    0.982857 │   0.973585 │\n",
      "├─────┼──────────┼─────────────┼────────────┤\n",
      "│ -   │ 0.97479  │    0.892308 │   0.931727 │\n",
      "├─────┼──────────┼─────────────┼────────────┤\n",
      "│ 0   │ 1        │    1        │   1        │\n",
      "├─────┼──────────┼─────────────┼────────────┤\n",
      "│ t+  │ 1        │    1        │   1        │\n",
      "├─────┼──────────┼─────────────┼────────────┤\n",
      "│ t-  │ 1        │    0.939655 │   0.968889 │\n",
      "├─────┼──────────┼─────────────┼────────────┤\n",
      "│ na  │ 0.636364 │    1        │   0.777778 │\n",
      "╘═════╧══════════╧═════════════╧════════════╛\n",
      "meanf1: 0.9419964133262609\n"
     ]
    },
    {
     "data": {
      "image/png": "[encoded data removed]",
      "text/plain": [
       "<Figure size 432x432 with 1 Axes>"
      ]
     },
     "metadata": {
      "needs_background": "light"
     },
     "output_type": "display_data"
    }
   ],
   "source": [
    "getResult(test_y, svm_predicted)"
   ]
  },
  {
   "cell_type": "markdown",
   "id": "6a5b2369",
   "metadata": {},
   "source": [
    "# Random Forest Classifier"
   ]
  },
  {
   "cell_type": "code",
   "execution_count": 203,
   "id": "3adf53bd",
   "metadata": {},
   "outputs": [
    {
     "name": "stdout",
     "output_type": "stream",
     "text": [
      "Predicting using Random Forest...\n"
     ]
    }
   ],
   "source": [
    "rfc_predicted = getPredictions(train_features, test_features, train_y, \"rfc\")"
   ]
  },
  {
   "cell_type": "code",
   "execution_count": 204,
   "id": "cc11a3e4",
   "metadata": {},
   "outputs": [
    {
     "name": "stdout",
     "output_type": "stream",
     "text": [
      "Results...\n",
      "╒═════╤══════════╤═════════════╤════════════╕\n",
      "│     │   Recall │   Precision │   F1-score │\n",
      "╞═════╪══════════╪═════════════╪════════════╡\n",
      "│ +   │ 0.990654 │    0.94306  │   0.966272 │\n",
      "├─────┼──────────┼─────────────┼────────────┤\n",
      "│ -   │ 0.848739 │    0.95283  │   0.897778 │\n",
      "├─────┼──────────┼─────────────┼────────────┤\n",
      "│ 0   │ 0.995595 │    0.997792 │   0.996692 │\n",
      "├─────┼──────────┼─────────────┼────────────┤\n",
      "│ t+  │ 0.958904 │    0.985915 │   0.972222 │\n",
      "├─────┼──────────┼─────────────┼────────────┤\n",
      "│ t-  │ 0.944954 │    0.990385 │   0.967136 │\n",
      "├─────┼──────────┼─────────────┼────────────┤\n",
      "│ na  │ 0.727273 │    1        │   0.842105 │\n",
      "╘═════╧══════════╧═════════════╧════════════╛\n",
      "meanf1: 0.9403675759749689\n"
     ]
    },
    {
     "data": {
      "image/png": "[encoded data removed]",
      "text/plain": [
       "<Figure size 432x432 with 1 Axes>"
      ]
     },
     "metadata": {
      "needs_background": "light"
     },
     "output_type": "display_data"
    }
   ],
   "source": [
    "getResult(test_y, rfc_predicted)"
   ]
  },
  {
   "cell_type": "markdown",
   "id": "2de28cdd",
   "metadata": {},
   "source": [
    "# Logistic Regression"
   ]
  },
  {
   "cell_type": "code",
   "execution_count": 205,
   "id": "3c6e9e99",
   "metadata": {},
   "outputs": [
    {
     "name": "stdout",
     "output_type": "stream",
     "text": [
      "Predicting using Logistic Regression...\n"
     ]
    }
   ],
   "source": [
    "lg_predicted = getPredictions(train_features, test_features, train_y, \"lg\")"
   ]
  },
  {
   "cell_type": "code",
   "execution_count": 206,
   "id": "35c29228",
   "metadata": {},
   "outputs": [
    {
     "name": "stdout",
     "output_type": "stream",
     "text": [
      "Results...\n",
      "╒═════╤══════════╤═════════════╤════════════╕\n",
      "│     │   Recall │   Precision │   F1-score │\n",
      "╞═════╪══════════╪═════════════╪════════════╡\n",
      "│ +   │ 0.962617 │    0.946691 │   0.954588 │\n",
      "├─────┼──────────┼─────────────┼────────────┤\n",
      "│ -   │ 0.865546 │    0.880342 │   0.872881 │\n",
      "├─────┼──────────┼─────────────┼────────────┤\n",
      "│ 0   │ 1        │    1        │   1        │\n",
      "├─────┼──────────┼─────────────┼────────────┤\n",
      "│ t+  │ 0.931507 │    1        │   0.964539 │\n",
      "├─────┼──────────┼─────────────┼────────────┤\n",
      "│ t-  │ 1        │    0.931624 │   0.964602 │\n",
      "├─────┼──────────┼─────────────┼────────────┤\n",
      "│ na  │ 0.545455 │    1        │   0.705882 │\n",
      "╘═════╧══════════╧═════════════╧════════════╛\n",
      "meanf1: 0.9104153444951147\n"
     ]
    },
    {
     "data": {
      "image/png": "[encoded data removed]",
      "text/plain": [
       "<Figure size 432x432 with 1 Axes>"
      ]
     },
     "metadata": {
      "needs_background": "light"
     },
     "output_type": "display_data"
    }
   ],
   "source": [
    "getResult(test_y, lg_predicted)"
   ]
  },
  {
   "cell_type": "markdown",
   "id": "5a443f30",
   "metadata": {},
   "source": [
    "# fOld 1"
   ]
  },
  {
   "cell_type": "code",
   "execution_count": 207,
   "id": "82b62b02",
   "metadata": {},
   "outputs": [],
   "source": [
    "all_data = pd.read_csv('data/all-verb-cat-data.csv', delimiter='\\t')\n",
    "train_verbs_set = pd.read_csv('data/train-test-sets-hawp-3/train1.csv', delimiter='\\t')\n",
    "test_verbs_set = pd.read_csv('data/train-test-sets-hawp-3/test1.csv', delimiter='\\t')"
   ]
  },
  {
   "cell_type": "code",
   "execution_count": 208,
   "id": "fea92869",
   "metadata": {},
   "outputs": [],
   "source": [
    "train_X, train_y = getDataAndLabels(train_verbs_set, all_data)\n",
    "test_X, test_y = getDataAndLabels(test_verbs_set, all_data)"
   ]
  },
  {
   "cell_type": "code",
   "execution_count": 209,
   "id": "77b31283",
   "metadata": {},
   "outputs": [
    {
     "name": "stderr",
     "output_type": "stream",
     "text": [
      "[======================================================================================================================== ]  99% ETA:  0:00:00\r"
     ]
    },
    {
     "name": "stdout",
     "output_type": "stream",
     "text": [
      "                                               features\n",
      "0     [N_NN, DM_DMD, N_NN, खरीद, RD_PUNC, NULL, NULL...\n",
      "1     [QT_QTF, PR_PRQ, N_NN, खरीद, RD_PUNC, NULL, NU...\n",
      "2     [N_NN, QT_QTC, N_NN, है, RD_PUNC, NULL, NULL, ...\n",
      "3     [N_NST, QT_QTC, N_NN, है, CC_CCS, V_VM, RD_PUN...\n",
      "4     [N_NN, V_VM, CC_CCS, बता, RD_PUNC, PR_PRP, N_N...\n",
      "...                                                 ...\n",
      "5203  [N_NN, QT_QTF, N_NN, है, RD_PUNC, NULL, NULL, ...\n",
      "5204  [N_NN, PSP, N_NNP, निकाल, RD_PUNC, NULL, NULL,...\n",
      "5205  [PSP, PR_PRP, N_NNP, है, RD_PUNC, NULL, NULL, ...\n",
      "5206  [NULL, NULL, N_NN, निकाल, PSP, N_NST, N_NN, NU...\n",
      "5207  [PSP, PR_PRQ, N_NN, था, RD_PUNC, NULL, NULL, c...\n",
      "\n",
      "[5208 rows x 1 columns]\n"
     ]
    }
   ],
   "source": [
    "train_features, train_verbs = getFeatures(train_X)"
   ]
  },
  {
   "cell_type": "code",
   "execution_count": 210,
   "id": "fb4b8e10",
   "metadata": {},
   "outputs": [
    {
     "name": "stderr",
     "output_type": "stream",
     "text": [
      "[=========================================================================================================================] 100% ETA:  0:00:00\r"
     ]
    },
    {
     "name": "stdout",
     "output_type": "stream",
     "text": [
      "                                               features\n",
      "0     [PSP, QT_QTC, N_NN, बैठ, V_VAUX, RD_PUNC, NULL...\n",
      "1     [QT_QTC, N_NN, N_NNP, जा, RD_PUNC, NULL, NULL,...\n",
      "2     [NULL, NULL, NULL, बता, RD_PUNC, PR_PRP, N_NN,...\n",
      "3     [PSP, PR_PRQ, N_NN, रह, RD_PUNC, NULL, NULL, c...\n",
      "4     [N_NST, QT_QTC, N_NN, था, CC_CCD, N_NNP, PSP, ...\n",
      "...                                                 ...\n",
      "1294  [N_NNP, N_NN, PSP, घूम, RD_PUNC, NULL, NULL, n...\n",
      "1295  [PSP, QT_QTC, N_NN, चल, RD_PUNC, NULL, NULL, c...\n",
      "1296  [PSP, QT_QTC, N_NN, चल, RD_PUNC, NULL, NULL, c...\n",
      "1297  [NULL, N_NN, QT_QTF, मिला, PR_PRQ, N_NN, V_VM,...\n",
      "1298  [V_VM, PR_PRQ, N_NN, चल, RD_PUNC, NULL, NULL, ...\n",
      "\n",
      "[1299 rows x 1 columns]\n"
     ]
    }
   ],
   "source": [
    "test_features, test_verbs = getFeatures(test_X)"
   ]
  },
  {
   "cell_type": "code",
   "execution_count": 211,
   "id": "0df6d6fa",
   "metadata": {},
   "outputs": [
    {
     "name": "stdout",
     "output_type": "stream",
     "text": [
      "5208 5208 1299 1299\n"
     ]
    }
   ],
   "source": [
    "print(len(train_features), len(train_y), len(test_features), len(test_y))"
   ]
  },
  {
   "cell_type": "markdown",
   "id": "664ee97f",
   "metadata": {},
   "source": [
    "# SVM "
   ]
  },
  {
   "cell_type": "code",
   "execution_count": 212,
   "id": "ba33394b",
   "metadata": {},
   "outputs": [
    {
     "name": "stdout",
     "output_type": "stream",
     "text": [
      "Predicting using SVM...\n"
     ]
    }
   ],
   "source": [
    "svm_predicted = getPredictions(train_features, test_features, train_y, \"svm\")"
   ]
  },
  {
   "cell_type": "code",
   "execution_count": 213,
   "id": "50a95aca",
   "metadata": {},
   "outputs": [
    {
     "name": "stdout",
     "output_type": "stream",
     "text": [
      "Results...\n",
      "╒═════╤══════════╤═════════════╤════════════╕\n",
      "│     │   Recall │   Precision │   F1-score │\n",
      "╞═════╪══════════╪═════════════╪════════════╡\n",
      "│ +   │ 0.980477 │    0.957627 │   0.968917 │\n",
      "├─────┼──────────┼─────────────┼────────────┤\n",
      "│ -   │ 0.88     │    0.88     │   0.88     │\n",
      "├─────┼──────────┼─────────────┼────────────┤\n",
      "│ 0   │ 0.998062 │    1        │   0.99903  │\n",
      "├─────┼──────────┼─────────────┼────────────┤\n",
      "│ t+  │ 0.988764 │    0.988764 │   0.988764 │\n",
      "├─────┼──────────┼─────────────┼────────────┤\n",
      "│ t-  │ 0.982143 │    0.973451 │   0.977778 │\n",
      "├─────┼──────────┼─────────────┼────────────┤\n",
      "│ na  │ 0.47619  │    1        │   0.645161 │\n",
      "╘═════╧══════════╧═════════════╧════════════╛\n",
      "meanf1: 0.9099417752441022\n"
     ]
    },
    {
     "data": {
      "image/png": "[encoded data removed]",
      "text/plain": [
       "<Figure size 432x432 with 1 Axes>"
      ]
     },
     "metadata": {
      "needs_background": "light"
     },
     "output_type": "display_data"
    }
   ],
   "source": [
    "getResult(test_y, svm_predicted)"
   ]
  },
  {
   "cell_type": "markdown",
   "id": "6a5b2369",
   "metadata": {},
   "source": [
    "# Random Forest Classifier"
   ]
  },
  {
   "cell_type": "code",
   "execution_count": 214,
   "id": "3adf53bd",
   "metadata": {},
   "outputs": [
    {
     "name": "stdout",
     "output_type": "stream",
     "text": [
      "Predicting using Random Forest...\n"
     ]
    }
   ],
   "source": [
    "rfc_predicted = getPredictions(train_features, test_features, train_y, \"rfc\")"
   ]
  },
  {
   "cell_type": "code",
   "execution_count": 215,
   "id": "cc11a3e4",
   "metadata": {},
   "outputs": [
    {
     "name": "stdout",
     "output_type": "stream",
     "text": [
      "Results...\n",
      "╒═════╤══════════╤═════════════╤════════════╕\n",
      "│     │   Recall │   Precision │   F1-score │\n",
      "╞═════╪══════════╪═════════════╪════════════╡\n",
      "│ +   │ 0.991323 │    0.896078 │   0.941298 │\n",
      "├─────┼──────────┼─────────────┼────────────┤\n",
      "│ -   │ 0.72     │    0.947368 │   0.818182 │\n",
      "├─────┼──────────┼─────────────┼────────────┤\n",
      "│ 0   │ 0.992248 │    1        │   0.996109 │\n",
      "├─────┼──────────┼─────────────┼────────────┤\n",
      "│ t+  │ 0.988764 │    0.977778 │   0.98324  │\n",
      "├─────┼──────────┼─────────────┼────────────┤\n",
      "│ t-  │ 0.928571 │    1        │   0.962963 │\n",
      "├─────┼──────────┼─────────────┼────────────┤\n",
      "│ na  │ 0.333333 │    1        │   0.5      │\n",
      "╘═════╧══════════╧═════════════╧════════════╛\n",
      "meanf1: 0.8669652642221234\n"
     ]
    },
    {
     "data": {
      "image/png": "[encoded data removed]",
      "text/plain": [
       "<Figure size 432x432 with 1 Axes>"
      ]
     },
     "metadata": {
      "needs_background": "light"
     },
     "output_type": "display_data"
    }
   ],
   "source": [
    "getResult(test_y, rfc_predicted)"
   ]
  },
  {
   "cell_type": "markdown",
   "id": "2de28cdd",
   "metadata": {},
   "source": [
    "# Logistic Regression"
   ]
  },
  {
   "cell_type": "code",
   "execution_count": 216,
   "id": "3c6e9e99",
   "metadata": {},
   "outputs": [
    {
     "name": "stdout",
     "output_type": "stream",
     "text": [
      "Predicting using Logistic Regression...\n"
     ]
    }
   ],
   "source": [
    "lg_predicted = getPredictions(train_features, test_features, train_y, \"lg\")"
   ]
  },
  {
   "cell_type": "code",
   "execution_count": 217,
   "id": "35c29228",
   "metadata": {},
   "outputs": [
    {
     "name": "stdout",
     "output_type": "stream",
     "text": [
      "Results...\n",
      "╒═════╤══════════╤═════════════╤════════════╕\n",
      "│     │   Recall │   Precision │   F1-score │\n",
      "╞═════╪══════════╪═════════════╪════════════╡\n",
      "│ +   │ 0.976139 │    0.927835 │   0.951374 │\n",
      "├─────┼──────────┼─────────────┼────────────┤\n",
      "│ -   │ 0.8      │    0.851064 │   0.824742 │\n",
      "├─────┼──────────┼─────────────┼────────────┤\n",
      "│ 0   │ 0.992248 │    1        │   0.996109 │\n",
      "├─────┼──────────┼─────────────┼────────────┤\n",
      "│ t+  │ 0.966292 │    0.988506 │   0.977273 │\n",
      "├─────┼──────────┼─────────────┼────────────┤\n",
      "│ t-  │ 0.982143 │    0.964912 │   0.973451 │\n",
      "├─────┼──────────┼─────────────┼────────────┤\n",
      "│ na  │ 0.333333 │    1        │   0.5      │\n",
      "╘═════╧══════════╧═════════════╧════════════╛\n",
      "meanf1: 0.8704915798920161\n"
     ]
    },
    {
     "data": {
      "image/png": "[encoded data removed]",
      "text/plain": [
       "<Figure size 432x432 with 1 Axes>"
      ]
     },
     "metadata": {
      "needs_background": "light"
     },
     "output_type": "display_data"
    }
   ],
   "source": [
    "getResult(test_y, lg_predicted)"
   ]
  },
  {
   "cell_type": "markdown",
   "id": "3b605a6b",
   "metadata": {},
   "source": [
    "# fOld 4"
   ]
  },
  {
   "cell_type": "code",
   "execution_count": 218,
   "id": "82b62b02",
   "metadata": {},
   "outputs": [],
   "source": [
    "all_data = pd.read_csv('data/all-verb-cat-data.csv', delimiter='\\t')\n",
    "train_verbs_set = pd.read_csv('data/train-test-sets-hawp-3/train4.csv', delimiter='\\t')\n",
    "test_verbs_set = pd.read_csv('data/train-test-sets-hawp-3/test4.csv', delimiter='\\t')"
   ]
  },
  {
   "cell_type": "code",
   "execution_count": 219,
   "id": "fea92869",
   "metadata": {},
   "outputs": [],
   "source": [
    "train_X, train_y = getDataAndLabels(train_verbs_set, all_data)\n",
    "test_X, test_y = getDataAndLabels(test_verbs_set, all_data)"
   ]
  },
  {
   "cell_type": "code",
   "execution_count": 220,
   "id": "77b31283",
   "metadata": {},
   "outputs": [
    {
     "name": "stderr",
     "output_type": "stream",
     "text": [
      "[=========================================================================================================================] 100% ETA:  0:00:00\r"
     ]
    },
    {
     "name": "stdout",
     "output_type": "stream",
     "text": [
      "                                               features\n",
      "0     [N_NN, DM_DMD, N_NN, खरीद, RD_PUNC, NULL, NULL...\n",
      "1     [QT_QTF, PR_PRQ, N_NN, खरीद, RD_PUNC, NULL, NU...\n",
      "2     [N_NN, QT_QTC, N_NN, है, RD_PUNC, NULL, NULL, ...\n",
      "3     [N_NST, QT_QTC, N_NN, है, CC_CCS, V_VM, RD_PUN...\n",
      "4     [N_NN, V_VM, CC_CCS, बता, RD_PUNC, PR_PRP, N_N...\n",
      "...                                                 ...\n",
      "5238  [NULL, NULL, PR_PRP, निपट, PSP, PSP, N_NN, NUL...\n",
      "5239  [N_NN, PSP, N_NN, छोड़, RD_PUNC, NULL, NULL, n...\n",
      "5240  [N_NN, PSP, N_NN, था, CC_CCD, QT_QTC, N_NN, nm...\n",
      "5241  [PSP, N_NN, RP_NEG, था, RD_PUNC, NULL, NULL, c...\n",
      "5242  [PSP, RP_INTF, QT_QTF, है, RD_PUNC, NULL, NULL...\n",
      "\n",
      "[5243 rows x 1 columns]\n"
     ]
    }
   ],
   "source": [
    "train_features, train_verbs = getFeatures(train_X)"
   ]
  },
  {
   "cell_type": "code",
   "execution_count": 221,
   "id": "fb4b8e10",
   "metadata": {},
   "outputs": [
    {
     "name": "stderr",
     "output_type": "stream",
     "text": [
      "[======================================================================================================================== ]  99% ETA:  0:00:00\r"
     ]
    },
    {
     "name": "stdout",
     "output_type": "stream",
     "text": [
      "                                               features\n",
      "0     [PSP, QT_QTF, N_NN, खरीद, RD_PUNC, NULL, NULL,...\n",
      "1     [PSP, QT_QTC, N_NN, खरीद, CC_CCD, N_NN, PSP, c...\n",
      "2     [PSP, QT_QTC, N_NN, कर, RD_PUNC, NULL, NULL, c...\n",
      "3     [NULL, NULL, QT_QTF, मिला, RD_PUNC, N_NNP, PSP...\n",
      "4     [PSP, PR_PRQ, N_NN, कर, RD_PUNC, NULL, NULL, c...\n",
      "...                                                 ...\n",
      "1259  [N_NN, QT_QTF, N_NN, है, RD_PUNC, NULL, NULL, ...\n",
      "1260  [N_NN, PSP, N_NNP, निकाल, RD_PUNC, NULL, NULL,...\n",
      "1261  [PSP, PR_PRP, N_NNP, है, RD_PUNC, NULL, NULL, ...\n",
      "1262  [NULL, NULL, N_NN, निकाल, PSP, N_NST, N_NN, NU...\n",
      "1263  [PSP, PR_PRQ, N_NN, था, RD_PUNC, NULL, NULL, c...\n",
      "\n",
      "[1264 rows x 1 columns]\n"
     ]
    }
   ],
   "source": [
    "test_features, test_verbs = getFeatures(test_X)"
   ]
  },
  {
   "cell_type": "code",
   "execution_count": 222,
   "id": "0df6d6fa",
   "metadata": {},
   "outputs": [
    {
     "name": "stdout",
     "output_type": "stream",
     "text": [
      "5243 5243 1264 1264\n"
     ]
    }
   ],
   "source": [
    "print(len(train_features), len(train_y), len(test_features), len(test_y))"
   ]
  },
  {
   "cell_type": "markdown",
   "id": "664ee97f",
   "metadata": {},
   "source": [
    "# SVM "
   ]
  },
  {
   "cell_type": "code",
   "execution_count": 223,
   "id": "ba33394b",
   "metadata": {},
   "outputs": [
    {
     "name": "stdout",
     "output_type": "stream",
     "text": [
      "Predicting using SVM...\n"
     ]
    }
   ],
   "source": [
    "svm_predicted = getPredictions(train_features, test_features, train_y, \"svm\")"
   ]
  },
  {
   "cell_type": "code",
   "execution_count": 224,
   "id": "50a95aca",
   "metadata": {},
   "outputs": [
    {
     "name": "stdout",
     "output_type": "stream",
     "text": [
      "Results...\n",
      "╒═════╤══════════╤═════════════╤════════════╕\n",
      "│     │   Recall │   Precision │   F1-score │\n",
      "╞═════╪══════════╪═════════════╪════════════╡\n",
      "│ +   │ 0.964015 │    0.964015 │   0.964015 │\n",
      "├─────┼──────────┼─────────────┼────────────┤\n",
      "│ -   │ 0.92126  │    0.835714 │   0.876404 │\n",
      "├─────┼──────────┼─────────────┼────────────┤\n",
      "│ 0   │ 0.997701 │    1        │   0.998849 │\n",
      "├─────┼──────────┼─────────────┼────────────┤\n",
      "│ t+  │ 1        │    0.970149 │   0.984848 │\n",
      "├─────┼──────────┼─────────────┼────────────┤\n",
      "│ t-  │ 0.977273 │    1        │   0.988506 │\n",
      "├─────┼──────────┼─────────────┼────────────┤\n",
      "│ na  │ 0.428571 │    1        │   0.6      │\n",
      "╘═════╧══════════╧═════════════╧════════════╛\n",
      "meanf1: 0.902103854980984\n"
     ]
    },
    {
     "data": {
      "image/png": "[encoded data removed]",
      "text/plain": [
       "<Figure size 432x432 with 1 Axes>"
      ]
     },
     "metadata": {
      "needs_background": "light"
     },
     "output_type": "display_data"
    }
   ],
   "source": [
    "getResult(test_y, svm_predicted)"
   ]
  },
  {
   "cell_type": "markdown",
   "id": "6a5b2369",
   "metadata": {},
   "source": [
    "# Random Forest Classifier"
   ]
  },
  {
   "cell_type": "code",
   "execution_count": 225,
   "id": "3adf53bd",
   "metadata": {},
   "outputs": [
    {
     "name": "stdout",
     "output_type": "stream",
     "text": [
      "Predicting using Random Forest...\n"
     ]
    }
   ],
   "source": [
    "rfc_predicted = getPredictions(train_features, test_features, train_y, \"rfc\")"
   ]
  },
  {
   "cell_type": "code",
   "execution_count": 226,
   "id": "cc11a3e4",
   "metadata": {},
   "outputs": [
    {
     "name": "stdout",
     "output_type": "stream",
     "text": [
      "Results...\n",
      "╒═════╤══════════╤═════════════╤════════════╕\n",
      "│     │   Recall │   Precision │   F1-score │\n",
      "╞═════╪══════════╪═════════════╪════════════╡\n",
      "│ +   │ 0.984848 │    0.942029 │   0.962963 │\n",
      "├─────┼──────────┼─────────────┼────────────┤\n",
      "│ -   │ 0.866142 │    0.92437  │   0.894309 │\n",
      "├─────┼──────────┼─────────────┼────────────┤\n",
      "│ 0   │ 0.997701 │    0.997701 │   0.997701 │\n",
      "├─────┼──────────┼─────────────┼────────────┤\n",
      "│ t+  │ 1        │    0.970149 │   0.984848 │\n",
      "├─────┼──────────┼─────────────┼────────────┤\n",
      "│ t-  │ 0.920455 │    0.987805 │   0.952941 │\n",
      "├─────┼──────────┼─────────────┼────────────┤\n",
      "│ na  │ 0.428571 │    1        │   0.6      │\n",
      "╘═════╧══════════╧═════════════╧════════════╛\n",
      "meanf1: 0.8987937861327923\n"
     ]
    },
    {
     "data": {
      "image/png": "[encoded data removed]",
      "text/plain": [
       "<Figure size 432x432 with 1 Axes>"
      ]
     },
     "metadata": {
      "needs_background": "light"
     },
     "output_type": "display_data"
    }
   ],
   "source": [
    "getResult(test_y, rfc_predicted)"
   ]
  },
  {
   "cell_type": "markdown",
   "id": "2de28cdd",
   "metadata": {},
   "source": [
    "# Logistic Regression"
   ]
  },
  {
   "cell_type": "code",
   "execution_count": 227,
   "id": "3c6e9e99",
   "metadata": {},
   "outputs": [
    {
     "name": "stdout",
     "output_type": "stream",
     "text": [
      "Predicting using Logistic Regression...\n"
     ]
    }
   ],
   "source": [
    "lg_predicted = getPredictions(train_features, test_features, train_y, \"lg\")"
   ]
  },
  {
   "cell_type": "code",
   "execution_count": 228,
   "id": "35c29228",
   "metadata": {},
   "outputs": [
    {
     "name": "stdout",
     "output_type": "stream",
     "text": [
      "Results...\n",
      "╒═════╤══════════╤═════════════╤════════════╕\n",
      "│     │   Recall │   Precision │   F1-score │\n",
      "╞═════╪══════════╪═════════════╪════════════╡\n",
      "│ +   │ 0.954545 │    0.956357 │   0.95545  │\n",
      "├─────┼──────────┼─────────────┼────────────┤\n",
      "│ -   │ 0.897638 │    0.814286 │   0.853933 │\n",
      "├─────┼──────────┼─────────────┼────────────┤\n",
      "│ 0   │ 0.997701 │    1        │   0.998849 │\n",
      "├─────┼──────────┼─────────────┼────────────┤\n",
      "│ t+  │ 0.984615 │    0.969697 │   0.977099 │\n",
      "├─────┼──────────┼─────────────┼────────────┤\n",
      "│ t-  │ 0.977273 │    0.966292 │   0.971751 │\n",
      "├─────┼──────────┼─────────────┼────────────┤\n",
      "│ na  │ 0.285714 │    0.75     │   0.413793 │\n",
      "╘═════╧══════════╧═════════════╧════════════╛\n",
      "meanf1: 0.8618126376281955\n"
     ]
    },
    {
     "data": {
      "image/png": "[encoded data removed]",
      "text/plain": [
       "<Figure size 432x432 with 1 Axes>"
      ]
     },
     "metadata": {
      "needs_background": "light"
     },
     "output_type": "display_data"
    }
   ],
   "source": [
    "getResult(test_y, lg_predicted)"
   ]
  },
  {
   "cell_type": "code",
   "execution_count": null,
   "id": "134a5989",
   "metadata": {},
   "outputs": [],
   "source": []
  },
  {
   "cell_type": "code",
   "execution_count": null,
   "id": "8f82097d",
   "metadata": {},
   "outputs": [],
   "source": []
  },
  {
   "cell_type": "code",
   "execution_count": null,
   "id": "b197f935",
   "metadata": {},
   "outputs": [],
   "source": []
  },
  {
   "cell_type": "code",
   "execution_count": null,
   "id": "09dff58a",
   "metadata": {},
   "outputs": [],
   "source": []
  }
 ],
 "metadata": {
  "kernelspec": {
   "display_name": "Python 3 (ipykernel)",
   "language": "python",
   "name": "python3"
  },
  "language_info": {
   "codemirror_mode": {
    "name": "ipython",
    "version": 3
   },
   "file_extension": ".py",
   "mimetype": "text/x-python",
   "name": "python",
   "nbconvert_exporter": "python",
   "pygments_lexer": "ipython3",
   "version": "3.7.10"
  }
 },
 "nbformat": 4,
 "nbformat_minor": 5
}
